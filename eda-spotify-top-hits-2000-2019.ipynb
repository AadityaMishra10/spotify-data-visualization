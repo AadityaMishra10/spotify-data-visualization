{
 "cells": [
  {
   "cell_type": "markdown",
   "id": "4a1e4e79",
   "metadata": {
    "papermill": {
     "duration": 0.011743,
     "end_time": "2022-08-06T18:27:01.509475",
     "exception": false,
     "start_time": "2022-08-06T18:27:01.497732",
     "status": "completed"
    },
    "tags": []
   },
   "source": [
    " <h1><center><img src= \"https://images.wondershare.com/recoverit/article/2020/08/unhide-songs-on-spotify-1.jpg\" alt =\"Spotify\" style='width: 550px;'></center></h1>\n",
    "\n",
    "This is an exploratory data analysis of the \"**Spotify Top Hits (2000-2019)**\" dataset by Mark Koverha.\n",
    "\n",
    "* **[Introduction](#introduction)**\n",
    "    - [Variables](#subsection-intro)\n",
    "* **[1. Importing packages](#section-one)**\n",
    "* **[2. Reading the data](#section-two)**\n",
    "* **[3. Review of the data](#section-three)**\n",
    "    - [a. Descriptive statistics](#subsection-a)\n",
    "    - [b. Data cleaning and transformation](#subsection-b)\n",
    "* **[4. Analysis of data](#section-four)**\n",
    "    - [a. Songs by year](#subsection-4a)\n",
    "    - [b. Music genre](#subsection-4b)\n",
    "    - [c. Top artists](#subsection-4c)\n",
    "    - [d. Music duration](#subsection-4d)\n",
    "    - [e. Variables correlation](#subsection-4e)\n",
    "* **[5. Conclusions](#section-five)**\n",
    "\n",
    "    "
   ]
  },
  {
   "cell_type": "markdown",
   "id": "64a68f4c",
   "metadata": {
    "papermill": {
     "duration": 0.012876,
     "end_time": "2022-08-06T18:27:01.534307",
     "exception": false,
     "start_time": "2022-08-06T18:27:01.521431",
     "status": "completed"
    },
    "tags": []
   },
   "source": [
    "<a id=\"introduction\"></a>\n",
    "\n",
    "# <h1><center>Introduction</center></h1>\n",
    "\n",
    "The purpose of this notebook is to study the main characteristics of Spotify's most popular songs and understand how they relate to each other according to their features, as well inserting some historical context for the analysis.\n",
    "\n",
    "The main reason for this analysis is for study purposes and practice using Python programming language."
   ]
  },
  {
   "cell_type": "markdown",
   "id": "36b09ada",
   "metadata": {
    "papermill": {
     "duration": 0.01167,
     "end_time": "2022-08-06T18:27:01.558035",
     "exception": false,
     "start_time": "2022-08-06T18:27:01.546365",
     "status": "completed"
    },
    "tags": []
   },
   "source": [
    "----"
   ]
  },
  {
   "cell_type": "markdown",
   "id": "e86f0d1a",
   "metadata": {
    "papermill": {
     "duration": 0.011543,
     "end_time": "2022-08-06T18:27:01.581294",
     "exception": false,
     "start_time": "2022-08-06T18:27:01.569751",
     "status": "completed"
    },
    "tags": []
   },
   "source": [
    "<a id=\"#subsection-intro\"></a>\n",
    "\n",
    "## Variables\n",
    "\n",
    "According to the Spotify website, all of their songs are given a score in each of the following categories (taken from the Spotify API documentation, https://developer.spotify.com/documentation/web-api/reference/):\n",
    "\n",
    "* **Mood**: Danceability, Valence, Energy, Tempo\n",
    "* **Properties**: Loudness, Speechiness, Instrumentalness\n",
    "* **Context**: Liveness, Acousticness\n",
    "\n",
    "\n",
    "The dataset contains the variables:\n",
    "\n",
    "### General informations\n",
    "\n",
    "* **artist**: Name of the Artist.\n",
    "\n",
    "* **song**: Name of the Track.\n",
    "\n",
    "* **genre**: Genre of the track.\n",
    "\n",
    "* **duration_ms**: Duration of the track in milliseconds.\n",
    "\n",
    "* **explicit**: The lyrics or content of a song or a music video contain one or more of the criteria which could be considered offensive or unsuitable for children.\n",
    "\n",
    "* **year**: Release Year of the track.\n",
    "\n",
    "* **popularity**: The higher the value the more popular the song is.\n",
    "\n",
    "* **instrumentalness**: Predicts whether a track contains no vocals. \"Ooh\" and \"aah\" sounds are treated as instrumental in this context. Rap or spoken word tracks are clearly \"vocal\". The closer the instrumentalness value is to 1.0, the greater likelihood the track contains no vocal content. Values above 0.5 are intended to represent instrumental tracks, but confidence is higher as the value approaches 1.0.\n",
    "\n",
    "* **mode**: Mode indicates the modality (major or minor) of a track, the type of scale from which its melodic content is derived. Major is represented by 1 and minor is 0.\n",
    "\n",
    "* **key**: The key the track is in. Integers map to pitches using standard Pitch Class notation. E.g. 0 = C, 1 = C♯/D♭, 2 = D, and so on. If no key was detected, the value is -1.\n",
    "\n",
    "### Mood\n",
    "\n",
    "* **danceability**: Danceability describes how suitable a track is for dancing based on a combination of musical elements including tempo, rhythm stability, beat strength, and overall regularity. A value of 0.0 is least danceable and 1.0 is most danceable.\n",
    "\n",
    "* **valence**: A measure from 0.0 to 1.0 describing the musical positiveness conveyed by a track. Tracks with high valence sound more positive (e.g. happy, cheerful, euphoric), while tracks with low valence sound more negative (e.g. sad, depressed, angry).\n",
    "\n",
    "* **energy**: Energy is a measure from 0.0 to 1.0 and represents a perceptual measure of intensity and activity.\n",
    "\n",
    "* **tempo**: The overall estimated tempo of a track in beats per minute (BPM). In musical terminology, tempo is the speed or pace of a given piece and derives directly from the average beat duration.\n",
    "\n",
    "### Properties \n",
    "\n",
    "* **loudness**: The overall loudness of a track in decibels (dB). Loudness values are averaged across the entire track and are useful for comparing relative loudness of tracks. Loudness is the quality of a sound that is the primary psychological correlate of physical strength (amplitude). Values typically range between -60 and 0 db.\n",
    "\n",
    "* **speechiness**: Speechiness detects the presence of spoken words in a track. The more exclusively speech-like the recording (e.g. talk show, audio book, poetry), the closer to 1.0 the attribute value. Values above 0.66 describe tracks that are probably made entirely of spoken words. Values between 0.33 and 0.66 describe tracks that may contain both music and speech, either in sections or layered, including such cases as rap music. Values below 0.33 most likely represent music and other non-speech-like tracks.\n",
    "\n",
    "### Context\n",
    "\n",
    "* **acousticness**: A confidence measure from 0.0 to 1.0 of whether the track is acoustic. 1.0 represents high confidence the track is acoustic.\n",
    "\n",
    "* **liveness**: Detects the presence of an audience in the recording. Higher liveness values represent an increased probability that the track was performed live. A value above 0.8 provides strong likelihood that the track is live."
   ]
  },
  {
   "cell_type": "markdown",
   "id": "6be92828",
   "metadata": {
    "papermill": {
     "duration": 0.011647,
     "end_time": "2022-08-06T18:27:01.604746",
     "exception": false,
     "start_time": "2022-08-06T18:27:01.593099",
     "status": "completed"
    },
    "tags": []
   },
   "source": [
    "___"
   ]
  },
  {
   "cell_type": "markdown",
   "id": "b9069db8",
   "metadata": {
    "papermill": {
     "duration": 0.011675,
     "end_time": "2022-08-06T18:27:01.628668",
     "exception": false,
     "start_time": "2022-08-06T18:27:01.616993",
     "status": "completed"
    },
    "tags": []
   },
   "source": [
    "## 1. Importing packages\n",
    "\n",
    "<a id=\"section-one\"></a>"
   ]
  },
  {
   "cell_type": "code",
   "execution_count": 34,
   "id": "8cf3504b",
   "metadata": {
    "execution": {
     "iopub.execute_input": "2022-08-06T18:27:01.654138Z",
     "iopub.status.busy": "2022-08-06T18:27:01.653792Z",
     "iopub.status.idle": "2022-08-06T18:27:03.584993Z",
     "shell.execute_reply": "2022-08-06T18:27:03.584223Z"
    },
    "papermill": {
     "duration": 1.946353,
     "end_time": "2022-08-06T18:27:03.587164",
     "exception": false,
     "start_time": "2022-08-06T18:27:01.640811",
     "status": "completed"
    },
    "tags": []
   },
   "outputs": [],
   "source": [
    "import pandas as pd\n",
    "import numpy as np\n",
    "import seaborn as sns\n",
    "import matplotlib.pyplot as plt\n",
    "import plotly.express as px"
   ]
  },
  {
   "cell_type": "markdown",
   "id": "a903ed2a",
   "metadata": {
    "papermill": {
     "duration": 0.011231,
     "end_time": "2022-08-06T18:27:03.610327",
     "exception": false,
     "start_time": "2022-08-06T18:27:03.599096",
     "status": "completed"
    },
    "tags": []
   },
   "source": [
    "---"
   ]
  },
  {
   "cell_type": "markdown",
   "id": "73894735",
   "metadata": {
    "papermill": {
     "duration": 0.011366,
     "end_time": "2022-08-06T18:27:03.633516",
     "exception": false,
     "start_time": "2022-08-06T18:27:03.622150",
     "status": "completed"
    },
    "tags": []
   },
   "source": [
    "## 2. Reading the data\n",
    "\n",
    "<a id=\"section-two\"></a>"
   ]
  },
  {
   "cell_type": "code",
   "execution_count": 35,
   "id": "ca59a79d",
   "metadata": {
    "execution": {
     "iopub.execute_input": "2022-08-06T18:27:03.658719Z",
     "iopub.status.busy": "2022-08-06T18:27:03.658117Z",
     "iopub.status.idle": "2022-08-06T18:27:03.688865Z",
     "shell.execute_reply": "2022-08-06T18:27:03.688189Z"
    },
    "papermill": {
     "duration": 0.045863,
     "end_time": "2022-08-06T18:27:03.690917",
     "exception": false,
     "start_time": "2022-08-06T18:27:03.645054",
     "status": "completed"
    },
    "tags": []
   },
   "outputs": [],
   "source": [
    "# Define the file path as a variable\n",
    "file_path = 'songs_normalize.csv'\n",
    "\n",
    "# Import and read the dataset\n",
    "top_songs = pd.read_csv(file_path)"
   ]
  },
  {
   "cell_type": "markdown",
   "id": "055c302c",
   "metadata": {
    "papermill": {
     "duration": 0.011393,
     "end_time": "2022-08-06T18:27:03.714117",
     "exception": false,
     "start_time": "2022-08-06T18:27:03.702724",
     "status": "completed"
    },
    "tags": []
   },
   "source": [
    "---"
   ]
  },
  {
   "cell_type": "markdown",
   "id": "69704ca2",
   "metadata": {
    "papermill": {
     "duration": 0.011477,
     "end_time": "2022-08-06T18:27:03.737647",
     "exception": false,
     "start_time": "2022-08-06T18:27:03.726170",
     "status": "completed"
    },
    "tags": []
   },
   "source": [
    "## 3. Review of the data\n",
    "\n",
    "<a id=\"section-three\"></a>\n",
    "\n",
    "\n",
    "### a. Descriptive statistics\n",
    "\n",
    "<a id=\"subsection-a\"></a>\n",
    "\n",
    "Let's take a first look at the dataset, get to know the variables, how they're registered, get to know the formats, verify missing values and think about how we are going to explore them. Also, we need to check some basic descriptive statistics."
   ]
  },
  {
   "cell_type": "code",
   "execution_count": 36,
   "id": "929aacb1",
   "metadata": {
    "execution": {
     "iopub.execute_input": "2022-08-06T18:27:03.762440Z",
     "iopub.status.busy": "2022-08-06T18:27:03.762118Z",
     "iopub.status.idle": "2022-08-06T18:27:03.786377Z",
     "shell.execute_reply": "2022-08-06T18:27:03.785523Z"
    },
    "papermill": {
     "duration": 0.038881,
     "end_time": "2022-08-06T18:27:03.788115",
     "exception": false,
     "start_time": "2022-08-06T18:27:03.749234",
     "status": "completed"
    },
    "tags": []
   },
   "outputs": [
    {
     "data": {
      "text/html": [
       "<div>\n",
       "<style scoped>\n",
       "    .dataframe tbody tr th:only-of-type {\n",
       "        vertical-align: middle;\n",
       "    }\n",
       "\n",
       "    .dataframe tbody tr th {\n",
       "        vertical-align: top;\n",
       "    }\n",
       "\n",
       "    .dataframe thead th {\n",
       "        text-align: right;\n",
       "    }\n",
       "</style>\n",
       "<table border=\"1\" class=\"dataframe\">\n",
       "  <thead>\n",
       "    <tr style=\"text-align: right;\">\n",
       "      <th></th>\n",
       "      <th>artist</th>\n",
       "      <th>song</th>\n",
       "      <th>duration_ms</th>\n",
       "      <th>explicit</th>\n",
       "      <th>year</th>\n",
       "      <th>popularity</th>\n",
       "      <th>danceability</th>\n",
       "      <th>energy</th>\n",
       "      <th>key</th>\n",
       "      <th>loudness</th>\n",
       "      <th>mode</th>\n",
       "      <th>speechiness</th>\n",
       "      <th>acousticness</th>\n",
       "      <th>instrumentalness</th>\n",
       "      <th>liveness</th>\n",
       "      <th>valence</th>\n",
       "      <th>tempo</th>\n",
       "      <th>genre</th>\n",
       "    </tr>\n",
       "  </thead>\n",
       "  <tbody>\n",
       "    <tr>\n",
       "      <th>0</th>\n",
       "      <td>Britney Spears</td>\n",
       "      <td>Oops!...I Did It Again</td>\n",
       "      <td>211160</td>\n",
       "      <td>False</td>\n",
       "      <td>2000</td>\n",
       "      <td>77</td>\n",
       "      <td>0.751</td>\n",
       "      <td>0.834</td>\n",
       "      <td>1</td>\n",
       "      <td>-5.444</td>\n",
       "      <td>0</td>\n",
       "      <td>0.0437</td>\n",
       "      <td>0.3000</td>\n",
       "      <td>0.000018</td>\n",
       "      <td>0.3550</td>\n",
       "      <td>0.894</td>\n",
       "      <td>95.053</td>\n",
       "      <td>pop</td>\n",
       "    </tr>\n",
       "    <tr>\n",
       "      <th>1</th>\n",
       "      <td>blink-182</td>\n",
       "      <td>All The Small Things</td>\n",
       "      <td>167066</td>\n",
       "      <td>False</td>\n",
       "      <td>1999</td>\n",
       "      <td>79</td>\n",
       "      <td>0.434</td>\n",
       "      <td>0.897</td>\n",
       "      <td>0</td>\n",
       "      <td>-4.918</td>\n",
       "      <td>1</td>\n",
       "      <td>0.0488</td>\n",
       "      <td>0.0103</td>\n",
       "      <td>0.000000</td>\n",
       "      <td>0.6120</td>\n",
       "      <td>0.684</td>\n",
       "      <td>148.726</td>\n",
       "      <td>rock, pop</td>\n",
       "    </tr>\n",
       "    <tr>\n",
       "      <th>2</th>\n",
       "      <td>Faith Hill</td>\n",
       "      <td>Breathe</td>\n",
       "      <td>250546</td>\n",
       "      <td>False</td>\n",
       "      <td>1999</td>\n",
       "      <td>66</td>\n",
       "      <td>0.529</td>\n",
       "      <td>0.496</td>\n",
       "      <td>7</td>\n",
       "      <td>-9.007</td>\n",
       "      <td>1</td>\n",
       "      <td>0.0290</td>\n",
       "      <td>0.1730</td>\n",
       "      <td>0.000000</td>\n",
       "      <td>0.2510</td>\n",
       "      <td>0.278</td>\n",
       "      <td>136.859</td>\n",
       "      <td>pop, country</td>\n",
       "    </tr>\n",
       "    <tr>\n",
       "      <th>3</th>\n",
       "      <td>Bon Jovi</td>\n",
       "      <td>It's My Life</td>\n",
       "      <td>224493</td>\n",
       "      <td>False</td>\n",
       "      <td>2000</td>\n",
       "      <td>78</td>\n",
       "      <td>0.551</td>\n",
       "      <td>0.913</td>\n",
       "      <td>0</td>\n",
       "      <td>-4.063</td>\n",
       "      <td>0</td>\n",
       "      <td>0.0466</td>\n",
       "      <td>0.0263</td>\n",
       "      <td>0.000013</td>\n",
       "      <td>0.3470</td>\n",
       "      <td>0.544</td>\n",
       "      <td>119.992</td>\n",
       "      <td>rock, metal</td>\n",
       "    </tr>\n",
       "    <tr>\n",
       "      <th>4</th>\n",
       "      <td>*NSYNC</td>\n",
       "      <td>Bye Bye Bye</td>\n",
       "      <td>200560</td>\n",
       "      <td>False</td>\n",
       "      <td>2000</td>\n",
       "      <td>65</td>\n",
       "      <td>0.614</td>\n",
       "      <td>0.928</td>\n",
       "      <td>8</td>\n",
       "      <td>-4.806</td>\n",
       "      <td>0</td>\n",
       "      <td>0.0516</td>\n",
       "      <td>0.0408</td>\n",
       "      <td>0.001040</td>\n",
       "      <td>0.0845</td>\n",
       "      <td>0.879</td>\n",
       "      <td>172.656</td>\n",
       "      <td>pop</td>\n",
       "    </tr>\n",
       "  </tbody>\n",
       "</table>\n",
       "</div>"
      ],
      "text/plain": [
       "           artist                    song  duration_ms  explicit  year  \\\n",
       "0  Britney Spears  Oops!...I Did It Again       211160     False  2000   \n",
       "1       blink-182    All The Small Things       167066     False  1999   \n",
       "2      Faith Hill                 Breathe       250546     False  1999   \n",
       "3        Bon Jovi            It's My Life       224493     False  2000   \n",
       "4          *NSYNC             Bye Bye Bye       200560     False  2000   \n",
       "\n",
       "   popularity  danceability  energy  key  loudness  mode  speechiness  \\\n",
       "0          77         0.751   0.834    1    -5.444     0       0.0437   \n",
       "1          79         0.434   0.897    0    -4.918     1       0.0488   \n",
       "2          66         0.529   0.496    7    -9.007     1       0.0290   \n",
       "3          78         0.551   0.913    0    -4.063     0       0.0466   \n",
       "4          65         0.614   0.928    8    -4.806     0       0.0516   \n",
       "\n",
       "   acousticness  instrumentalness  liveness  valence    tempo         genre  \n",
       "0        0.3000          0.000018    0.3550    0.894   95.053           pop  \n",
       "1        0.0103          0.000000    0.6120    0.684  148.726     rock, pop  \n",
       "2        0.1730          0.000000    0.2510    0.278  136.859  pop, country  \n",
       "3        0.0263          0.000013    0.3470    0.544  119.992   rock, metal  \n",
       "4        0.0408          0.001040    0.0845    0.879  172.656           pop  "
      ]
     },
     "execution_count": 36,
     "metadata": {},
     "output_type": "execute_result"
    }
   ],
   "source": [
    "# Checking the first rows of data\n",
    "top_songs.head()"
   ]
  },
  {
   "cell_type": "code",
   "execution_count": 37,
   "id": "9d704cdd",
   "metadata": {
    "execution": {
     "iopub.execute_input": "2022-08-06T18:27:03.814416Z",
     "iopub.status.busy": "2022-08-06T18:27:03.813778Z",
     "iopub.status.idle": "2022-08-06T18:27:03.866487Z",
     "shell.execute_reply": "2022-08-06T18:27:03.865598Z"
    },
    "papermill": {
     "duration": 0.068205,
     "end_time": "2022-08-06T18:27:03.868587",
     "exception": false,
     "start_time": "2022-08-06T18:27:03.800382",
     "status": "completed"
    },
    "tags": []
   },
   "outputs": [
    {
     "data": {
      "text/html": [
       "<div>\n",
       "<style scoped>\n",
       "    .dataframe tbody tr th:only-of-type {\n",
       "        vertical-align: middle;\n",
       "    }\n",
       "\n",
       "    .dataframe tbody tr th {\n",
       "        vertical-align: top;\n",
       "    }\n",
       "\n",
       "    .dataframe thead th {\n",
       "        text-align: right;\n",
       "    }\n",
       "</style>\n",
       "<table border=\"1\" class=\"dataframe\">\n",
       "  <thead>\n",
       "    <tr style=\"text-align: right;\">\n",
       "      <th></th>\n",
       "      <th>duration_ms</th>\n",
       "      <th>year</th>\n",
       "      <th>popularity</th>\n",
       "      <th>danceability</th>\n",
       "      <th>energy</th>\n",
       "      <th>key</th>\n",
       "      <th>loudness</th>\n",
       "      <th>mode</th>\n",
       "      <th>speechiness</th>\n",
       "      <th>acousticness</th>\n",
       "      <th>instrumentalness</th>\n",
       "      <th>liveness</th>\n",
       "      <th>valence</th>\n",
       "      <th>tempo</th>\n",
       "    </tr>\n",
       "  </thead>\n",
       "  <tbody>\n",
       "    <tr>\n",
       "      <th>count</th>\n",
       "      <td>2000.000000</td>\n",
       "      <td>2000.00000</td>\n",
       "      <td>2000.000000</td>\n",
       "      <td>2000.000000</td>\n",
       "      <td>2000.000000</td>\n",
       "      <td>2000.000000</td>\n",
       "      <td>2000.000000</td>\n",
       "      <td>2000.000000</td>\n",
       "      <td>2000.000000</td>\n",
       "      <td>2000.000000</td>\n",
       "      <td>2000.000000</td>\n",
       "      <td>2000.000000</td>\n",
       "      <td>2000.000000</td>\n",
       "      <td>2000.000000</td>\n",
       "    </tr>\n",
       "    <tr>\n",
       "      <th>mean</th>\n",
       "      <td>228748.124500</td>\n",
       "      <td>2009.49400</td>\n",
       "      <td>59.872500</td>\n",
       "      <td>0.667437</td>\n",
       "      <td>0.720366</td>\n",
       "      <td>5.378000</td>\n",
       "      <td>-5.512435</td>\n",
       "      <td>0.553500</td>\n",
       "      <td>0.103568</td>\n",
       "      <td>0.128955</td>\n",
       "      <td>0.015226</td>\n",
       "      <td>0.181216</td>\n",
       "      <td>0.551690</td>\n",
       "      <td>120.122558</td>\n",
       "    </tr>\n",
       "    <tr>\n",
       "      <th>std</th>\n",
       "      <td>39136.569008</td>\n",
       "      <td>5.85996</td>\n",
       "      <td>21.335577</td>\n",
       "      <td>0.140416</td>\n",
       "      <td>0.152745</td>\n",
       "      <td>3.615059</td>\n",
       "      <td>1.933482</td>\n",
       "      <td>0.497254</td>\n",
       "      <td>0.096159</td>\n",
       "      <td>0.173346</td>\n",
       "      <td>0.087771</td>\n",
       "      <td>0.140669</td>\n",
       "      <td>0.220864</td>\n",
       "      <td>26.967112</td>\n",
       "    </tr>\n",
       "    <tr>\n",
       "      <th>min</th>\n",
       "      <td>113000.000000</td>\n",
       "      <td>1998.00000</td>\n",
       "      <td>0.000000</td>\n",
       "      <td>0.129000</td>\n",
       "      <td>0.054900</td>\n",
       "      <td>0.000000</td>\n",
       "      <td>-20.514000</td>\n",
       "      <td>0.000000</td>\n",
       "      <td>0.023200</td>\n",
       "      <td>0.000019</td>\n",
       "      <td>0.000000</td>\n",
       "      <td>0.021500</td>\n",
       "      <td>0.038100</td>\n",
       "      <td>60.019000</td>\n",
       "    </tr>\n",
       "    <tr>\n",
       "      <th>25%</th>\n",
       "      <td>203580.000000</td>\n",
       "      <td>2004.00000</td>\n",
       "      <td>56.000000</td>\n",
       "      <td>0.581000</td>\n",
       "      <td>0.622000</td>\n",
       "      <td>2.000000</td>\n",
       "      <td>-6.490250</td>\n",
       "      <td>0.000000</td>\n",
       "      <td>0.039600</td>\n",
       "      <td>0.014000</td>\n",
       "      <td>0.000000</td>\n",
       "      <td>0.088100</td>\n",
       "      <td>0.386750</td>\n",
       "      <td>98.985750</td>\n",
       "    </tr>\n",
       "    <tr>\n",
       "      <th>50%</th>\n",
       "      <td>223279.500000</td>\n",
       "      <td>2010.00000</td>\n",
       "      <td>65.500000</td>\n",
       "      <td>0.676000</td>\n",
       "      <td>0.736000</td>\n",
       "      <td>6.000000</td>\n",
       "      <td>-5.285000</td>\n",
       "      <td>1.000000</td>\n",
       "      <td>0.059850</td>\n",
       "      <td>0.055700</td>\n",
       "      <td>0.000000</td>\n",
       "      <td>0.124000</td>\n",
       "      <td>0.557500</td>\n",
       "      <td>120.021500</td>\n",
       "    </tr>\n",
       "    <tr>\n",
       "      <th>75%</th>\n",
       "      <td>248133.000000</td>\n",
       "      <td>2015.00000</td>\n",
       "      <td>73.000000</td>\n",
       "      <td>0.764000</td>\n",
       "      <td>0.839000</td>\n",
       "      <td>8.000000</td>\n",
       "      <td>-4.167750</td>\n",
       "      <td>1.000000</td>\n",
       "      <td>0.129000</td>\n",
       "      <td>0.176250</td>\n",
       "      <td>0.000068</td>\n",
       "      <td>0.241000</td>\n",
       "      <td>0.730000</td>\n",
       "      <td>134.265500</td>\n",
       "    </tr>\n",
       "    <tr>\n",
       "      <th>max</th>\n",
       "      <td>484146.000000</td>\n",
       "      <td>2020.00000</td>\n",
       "      <td>89.000000</td>\n",
       "      <td>0.975000</td>\n",
       "      <td>0.999000</td>\n",
       "      <td>11.000000</td>\n",
       "      <td>-0.276000</td>\n",
       "      <td>1.000000</td>\n",
       "      <td>0.576000</td>\n",
       "      <td>0.976000</td>\n",
       "      <td>0.985000</td>\n",
       "      <td>0.853000</td>\n",
       "      <td>0.973000</td>\n",
       "      <td>210.851000</td>\n",
       "    </tr>\n",
       "  </tbody>\n",
       "</table>\n",
       "</div>"
      ],
      "text/plain": [
       "         duration_ms        year   popularity  danceability       energy  \\\n",
       "count    2000.000000  2000.00000  2000.000000   2000.000000  2000.000000   \n",
       "mean   228748.124500  2009.49400    59.872500      0.667437     0.720366   \n",
       "std     39136.569008     5.85996    21.335577      0.140416     0.152745   \n",
       "min    113000.000000  1998.00000     0.000000      0.129000     0.054900   \n",
       "25%    203580.000000  2004.00000    56.000000      0.581000     0.622000   \n",
       "50%    223279.500000  2010.00000    65.500000      0.676000     0.736000   \n",
       "75%    248133.000000  2015.00000    73.000000      0.764000     0.839000   \n",
       "max    484146.000000  2020.00000    89.000000      0.975000     0.999000   \n",
       "\n",
       "               key     loudness         mode  speechiness  acousticness  \\\n",
       "count  2000.000000  2000.000000  2000.000000  2000.000000   2000.000000   \n",
       "mean      5.378000    -5.512435     0.553500     0.103568      0.128955   \n",
       "std       3.615059     1.933482     0.497254     0.096159      0.173346   \n",
       "min       0.000000   -20.514000     0.000000     0.023200      0.000019   \n",
       "25%       2.000000    -6.490250     0.000000     0.039600      0.014000   \n",
       "50%       6.000000    -5.285000     1.000000     0.059850      0.055700   \n",
       "75%       8.000000    -4.167750     1.000000     0.129000      0.176250   \n",
       "max      11.000000    -0.276000     1.000000     0.576000      0.976000   \n",
       "\n",
       "       instrumentalness     liveness      valence        tempo  \n",
       "count       2000.000000  2000.000000  2000.000000  2000.000000  \n",
       "mean           0.015226     0.181216     0.551690   120.122558  \n",
       "std            0.087771     0.140669     0.220864    26.967112  \n",
       "min            0.000000     0.021500     0.038100    60.019000  \n",
       "25%            0.000000     0.088100     0.386750    98.985750  \n",
       "50%            0.000000     0.124000     0.557500   120.021500  \n",
       "75%            0.000068     0.241000     0.730000   134.265500  \n",
       "max            0.985000     0.853000     0.973000   210.851000  "
      ]
     },
     "execution_count": 37,
     "metadata": {},
     "output_type": "execute_result"
    }
   ],
   "source": [
    "# Basic descriptive statistics\n",
    "top_songs.describe()"
   ]
  },
  {
   "cell_type": "markdown",
   "id": "c6391224",
   "metadata": {
    "papermill": {
     "duration": 0.012081,
     "end_time": "2022-08-06T18:27:03.893495",
     "exception": false,
     "start_time": "2022-08-06T18:27:03.881414",
     "status": "completed"
    },
    "tags": []
   },
   "source": [
    "Most of the data seems to be okay about the descriptive statistics. Although, there's just a few things to check, for example, the minimun observation of the \"year\" is 1998 and the maximum is 2020, which is weird because the database range should goes between 2000 and 2019.\n",
    "\n",
    "We will do something about it in the next step!"
   ]
  },
  {
   "cell_type": "markdown",
   "id": "290c829f",
   "metadata": {
    "papermill": {
     "duration": 0.012039,
     "end_time": "2022-08-06T18:27:03.917615",
     "exception": false,
     "start_time": "2022-08-06T18:27:03.905576",
     "status": "completed"
    },
    "tags": []
   },
   "source": [
    "### b. Data cleaning and transformation\n",
    "\n",
    "<a id=\"subsection-b\"></a>\n",
    "\n",
    "\n",
    "One of the important first steps when doing the \"data cleaning\" is to check if there's any missing value. We need to understand if the missing values wasn't recorded or if it doesn't really exist for that variable."
   ]
  },
  {
   "cell_type": "code",
   "execution_count": 38,
   "id": "912cc209",
   "metadata": {
    "_kg_hide-input": true,
    "execution": {
     "iopub.execute_input": "2022-08-06T18:27:03.944307Z",
     "iopub.status.busy": "2022-08-06T18:27:03.943884Z",
     "iopub.status.idle": "2022-08-06T18:27:03.949507Z",
     "shell.execute_reply": "2022-08-06T18:27:03.948266Z"
    },
    "papermill": {
     "duration": 0.021793,
     "end_time": "2022-08-06T18:27:03.951784",
     "exception": false,
     "start_time": "2022-08-06T18:27:03.929991",
     "status": "completed"
    },
    "tags": []
   },
   "outputs": [
    {
     "name": "stdout",
     "output_type": "stream",
     "text": [
      "Total of observations: 2000\n"
     ]
    }
   ],
   "source": [
    "# Collecting the total number of observations in the database (as calculated above)\n",
    "total_rows = len(top_songs)\n",
    "print('Total of observations:', total_rows)"
   ]
  },
  {
   "cell_type": "code",
   "execution_count": 39,
   "id": "95281b84",
   "metadata": {
    "execution": {
     "iopub.execute_input": "2022-08-06T18:27:03.978261Z",
     "iopub.status.busy": "2022-08-06T18:27:03.977911Z",
     "iopub.status.idle": "2022-08-06T18:27:03.986238Z",
     "shell.execute_reply": "2022-08-06T18:27:03.985155Z"
    },
    "papermill": {
     "duration": 0.024097,
     "end_time": "2022-08-06T18:27:03.988398",
     "exception": false,
     "start_time": "2022-08-06T18:27:03.964301",
     "status": "completed"
    },
    "tags": []
   },
   "outputs": [
    {
     "name": "stdout",
     "output_type": "stream",
     "text": [
      "artist              0\n",
      "song                0\n",
      "duration_ms         0\n",
      "explicit            0\n",
      "year                0\n",
      "popularity          0\n",
      "danceability        0\n",
      "energy              0\n",
      "key                 0\n",
      "loudness            0\n",
      "mode                0\n",
      "speechiness         0\n",
      "acousticness        0\n",
      "instrumentalness    0\n",
      "liveness            0\n",
      "valence             0\n",
      "tempo               0\n",
      "genre               0\n",
      "dtype: int64\n",
      "-- Proportion of missing values: 0.0\n"
     ]
    }
   ],
   "source": [
    "# Getting the number of missing values\n",
    "missing_values = top_songs.isnull().sum()\n",
    "total_missing = missing_values.sum()\n",
    "\n",
    "# Calculating the proportion between total missing values and total observations of the data\n",
    "proportion_missing_values = (total_missing/total_rows)*100\n",
    "\n",
    "print(missing_values)\n",
    "print('-- Proportion of missing values:', proportion_missing_values)"
   ]
  },
  {
   "cell_type": "code",
   "execution_count": 40,
   "id": "718929c2",
   "metadata": {
    "execution": {
     "iopub.execute_input": "2022-08-06T18:27:04.016265Z",
     "iopub.status.busy": "2022-08-06T18:27:04.015166Z",
     "iopub.status.idle": "2022-08-06T18:27:04.032804Z",
     "shell.execute_reply": "2022-08-06T18:27:04.031188Z"
    },
    "papermill": {
     "duration": 0.034206,
     "end_time": "2022-08-06T18:27:04.035658",
     "exception": false,
     "start_time": "2022-08-06T18:27:04.001452",
     "status": "completed"
    },
    "tags": []
   },
   "outputs": [
    {
     "name": "stdout",
     "output_type": "stream",
     "text": [
      "<class 'pandas.core.frame.DataFrame'>\n",
      "RangeIndex: 2000 entries, 0 to 1999\n",
      "Data columns (total 18 columns):\n",
      " #   Column            Non-Null Count  Dtype  \n",
      "---  ------            --------------  -----  \n",
      " 0   artist            2000 non-null   object \n",
      " 1   song              2000 non-null   object \n",
      " 2   duration_ms       2000 non-null   int64  \n",
      " 3   explicit          2000 non-null   bool   \n",
      " 4   year              2000 non-null   int64  \n",
      " 5   popularity        2000 non-null   int64  \n",
      " 6   danceability      2000 non-null   float64\n",
      " 7   energy            2000 non-null   float64\n",
      " 8   key               2000 non-null   int64  \n",
      " 9   loudness          2000 non-null   float64\n",
      " 10  mode              2000 non-null   int64  \n",
      " 11  speechiness       2000 non-null   float64\n",
      " 12  acousticness      2000 non-null   float64\n",
      " 13  instrumentalness  2000 non-null   float64\n",
      " 14  liveness          2000 non-null   float64\n",
      " 15  valence           2000 non-null   float64\n",
      " 16  tempo             2000 non-null   float64\n",
      " 17  genre             2000 non-null   object \n",
      "dtypes: bool(1), float64(9), int64(5), object(3)\n",
      "memory usage: 267.7+ KB\n"
     ]
    }
   ],
   "source": [
    "# Checking the variables format\n",
    "top_songs.info()"
   ]
  },
  {
   "cell_type": "markdown",
   "id": "d35269c1",
   "metadata": {
    "papermill": {
     "duration": 0.012683,
     "end_time": "2022-08-06T18:27:04.062047",
     "exception": false,
     "start_time": "2022-08-06T18:27:04.049364",
     "status": "completed"
    },
    "tags": []
   },
   "source": [
    "There's no missing values in our dataset and all the columns data types seems to be alright too!\n",
    "\n",
    "### **But...**\n",
    "\n",
    "Just to make it easier to read the data, I will convert the column \"*duration_ms*\" (miliseconds) to seconds. To do that, I could use two methods with the same outputs: \n",
    "- **A)** Creating a new column using an existing column and writing a simple division operation over it; \n",
    "- **B)** Creating a new column, a new function and then using the \"*.apply*\" (it's more complicated for our goal here, but it's nice to practice some Python functions/lambda)"
   ]
  },
  {
   "cell_type": "code",
   "execution_count": 41,
   "id": "fd6df14e",
   "metadata": {
    "execution": {
     "iopub.execute_input": "2022-08-06T18:27:04.089798Z",
     "iopub.status.busy": "2022-08-06T18:27:04.088753Z",
     "iopub.status.idle": "2022-08-06T18:27:04.116033Z",
     "shell.execute_reply": "2022-08-06T18:27:04.115198Z"
    },
    "papermill": {
     "duration": 0.043406,
     "end_time": "2022-08-06T18:27:04.118186",
     "exception": false,
     "start_time": "2022-08-06T18:27:04.074780",
     "status": "completed"
    },
    "tags": []
   },
   "outputs": [],
   "source": [
    "## A. FIRST METHOD ##\n",
    "\n",
    "#top_songs['duration_sec'] = top_songs['duration_ms']/1000\n",
    "#top_songs\n",
    "\n",
    "\n",
    "## B. SECOND METHOD ##\n",
    "\n",
    "# Creating a function that converts milliseconds to seconds\n",
    "def convert_ms_to_sec(ms):\n",
    "    return ms/1000\n",
    "\n",
    "# Creating a new column in the dataframe, using the apply function with lambda\n",
    "top_songs['duration_sec'] = top_songs.apply(lambda ms: convert_ms_to_sec(ms['duration_ms']), axis=1)"
   ]
  },
  {
   "cell_type": "code",
   "execution_count": 42,
   "id": "c8e4babf",
   "metadata": {
    "_kg_hide-output": true,
    "execution": {
     "iopub.execute_input": "2022-08-06T18:27:04.145183Z",
     "iopub.status.busy": "2022-08-06T18:27:04.144844Z",
     "iopub.status.idle": "2022-08-06T18:27:04.162772Z",
     "shell.execute_reply": "2022-08-06T18:27:04.161816Z"
    },
    "papermill": {
     "duration": 0.034026,
     "end_time": "2022-08-06T18:27:04.164955",
     "exception": false,
     "start_time": "2022-08-06T18:27:04.130929",
     "status": "completed"
    },
    "tags": []
   },
   "outputs": [
    {
     "name": "stdout",
     "output_type": "stream",
     "text": [
      "<class 'pandas.core.frame.DataFrame'>\n",
      "RangeIndex: 2000 entries, 0 to 1999\n",
      "Data columns (total 19 columns):\n",
      " #   Column            Non-Null Count  Dtype  \n",
      "---  ------            --------------  -----  \n",
      " 0   artist            2000 non-null   object \n",
      " 1   song              2000 non-null   object \n",
      " 2   duration_ms       2000 non-null   int64  \n",
      " 3   explicit          2000 non-null   bool   \n",
      " 4   year              2000 non-null   int64  \n",
      " 5   popularity        2000 non-null   int64  \n",
      " 6   danceability      2000 non-null   float64\n",
      " 7   energy            2000 non-null   float64\n",
      " 8   key               2000 non-null   int64  \n",
      " 9   loudness          2000 non-null   float64\n",
      " 10  mode              2000 non-null   int64  \n",
      " 11  speechiness       2000 non-null   float64\n",
      " 12  acousticness      2000 non-null   float64\n",
      " 13  instrumentalness  2000 non-null   float64\n",
      " 14  liveness          2000 non-null   float64\n",
      " 15  valence           2000 non-null   float64\n",
      " 16  tempo             2000 non-null   float64\n",
      " 17  genre             2000 non-null   object \n",
      " 18  duration_sec      2000 non-null   int64  \n",
      "dtypes: bool(1), float64(9), int64(6), object(3)\n",
      "memory usage: 283.3+ KB\n"
     ]
    }
   ],
   "source": [
    "# Converting the new column to 'int64' and checking for missing values in it\n",
    "top_songs = top_songs.astype({\"duration_sec\": np.int64})\n",
    "top_songs.info()"
   ]
  },
  {
   "cell_type": "markdown",
   "id": "b1e6f111",
   "metadata": {
    "papermill": {
     "duration": 0.012471,
     "end_time": "2022-08-06T18:27:04.190245",
     "exception": false,
     "start_time": "2022-08-06T18:27:04.177774",
     "status": "completed"
    },
    "tags": []
   },
   "source": [
    "Now let's go back to that \"***year***\" problem we talked about. As stated before:\n",
    "\n",
    "> *Most of the data seems to be okay about the descriptive statistics. Although, there's just a few things to check, for example, the minimun observation of the \"year\" is 1998 and the maximum is 2020, which is weird because the database range should goes between 2000 and 2019.*\n",
    "\n",
    "We need to check how many observations are out of the scope of our analysis. To do that, we are going to group the rows by year."
   ]
  },
  {
   "cell_type": "code",
   "execution_count": 43,
   "id": "7de340ab",
   "metadata": {
    "execution": {
     "iopub.execute_input": "2022-08-06T18:27:04.216875Z",
     "iopub.status.busy": "2022-08-06T18:27:04.216536Z",
     "iopub.status.idle": "2022-08-06T18:27:04.227520Z",
     "shell.execute_reply": "2022-08-06T18:27:04.226862Z"
    },
    "papermill": {
     "duration": 0.026503,
     "end_time": "2022-08-06T18:27:04.229364",
     "exception": false,
     "start_time": "2022-08-06T18:27:04.202861",
     "status": "completed"
    },
    "tags": []
   },
   "outputs": [
    {
     "data": {
      "text/html": [
       "<div>\n",
       "<style scoped>\n",
       "    .dataframe tbody tr th:only-of-type {\n",
       "        vertical-align: middle;\n",
       "    }\n",
       "\n",
       "    .dataframe tbody tr th {\n",
       "        vertical-align: top;\n",
       "    }\n",
       "\n",
       "    .dataframe thead th {\n",
       "        text-align: right;\n",
       "    }\n",
       "</style>\n",
       "<table border=\"1\" class=\"dataframe\">\n",
       "  <thead>\n",
       "    <tr style=\"text-align: right;\">\n",
       "      <th></th>\n",
       "      <th>year</th>\n",
       "      <th>songs</th>\n",
       "    </tr>\n",
       "  </thead>\n",
       "  <tbody>\n",
       "    <tr>\n",
       "      <th>0</th>\n",
       "      <td>1998</td>\n",
       "      <td>1</td>\n",
       "    </tr>\n",
       "    <tr>\n",
       "      <th>1</th>\n",
       "      <td>1999</td>\n",
       "      <td>38</td>\n",
       "    </tr>\n",
       "    <tr>\n",
       "      <th>2</th>\n",
       "      <td>2000</td>\n",
       "      <td>74</td>\n",
       "    </tr>\n",
       "    <tr>\n",
       "      <th>3</th>\n",
       "      <td>2001</td>\n",
       "      <td>108</td>\n",
       "    </tr>\n",
       "    <tr>\n",
       "      <th>4</th>\n",
       "      <td>2002</td>\n",
       "      <td>90</td>\n",
       "    </tr>\n",
       "    <tr>\n",
       "      <th>5</th>\n",
       "      <td>2003</td>\n",
       "      <td>97</td>\n",
       "    </tr>\n",
       "    <tr>\n",
       "      <th>6</th>\n",
       "      <td>2004</td>\n",
       "      <td>96</td>\n",
       "    </tr>\n",
       "    <tr>\n",
       "      <th>7</th>\n",
       "      <td>2005</td>\n",
       "      <td>104</td>\n",
       "    </tr>\n",
       "    <tr>\n",
       "      <th>8</th>\n",
       "      <td>2006</td>\n",
       "      <td>95</td>\n",
       "    </tr>\n",
       "    <tr>\n",
       "      <th>9</th>\n",
       "      <td>2007</td>\n",
       "      <td>94</td>\n",
       "    </tr>\n",
       "    <tr>\n",
       "      <th>10</th>\n",
       "      <td>2008</td>\n",
       "      <td>97</td>\n",
       "    </tr>\n",
       "    <tr>\n",
       "      <th>11</th>\n",
       "      <td>2009</td>\n",
       "      <td>84</td>\n",
       "    </tr>\n",
       "    <tr>\n",
       "      <th>12</th>\n",
       "      <td>2010</td>\n",
       "      <td>107</td>\n",
       "    </tr>\n",
       "    <tr>\n",
       "      <th>13</th>\n",
       "      <td>2011</td>\n",
       "      <td>99</td>\n",
       "    </tr>\n",
       "    <tr>\n",
       "      <th>14</th>\n",
       "      <td>2012</td>\n",
       "      <td>115</td>\n",
       "    </tr>\n",
       "    <tr>\n",
       "      <th>15</th>\n",
       "      <td>2013</td>\n",
       "      <td>89</td>\n",
       "    </tr>\n",
       "    <tr>\n",
       "      <th>16</th>\n",
       "      <td>2014</td>\n",
       "      <td>104</td>\n",
       "    </tr>\n",
       "    <tr>\n",
       "      <th>17</th>\n",
       "      <td>2015</td>\n",
       "      <td>99</td>\n",
       "    </tr>\n",
       "    <tr>\n",
       "      <th>18</th>\n",
       "      <td>2016</td>\n",
       "      <td>99</td>\n",
       "    </tr>\n",
       "    <tr>\n",
       "      <th>19</th>\n",
       "      <td>2017</td>\n",
       "      <td>111</td>\n",
       "    </tr>\n",
       "    <tr>\n",
       "      <th>20</th>\n",
       "      <td>2018</td>\n",
       "      <td>107</td>\n",
       "    </tr>\n",
       "    <tr>\n",
       "      <th>21</th>\n",
       "      <td>2019</td>\n",
       "      <td>89</td>\n",
       "    </tr>\n",
       "    <tr>\n",
       "      <th>22</th>\n",
       "      <td>2020</td>\n",
       "      <td>3</td>\n",
       "    </tr>\n",
       "  </tbody>\n",
       "</table>\n",
       "</div>"
      ],
      "text/plain": [
       "    year  songs\n",
       "0   1998      1\n",
       "1   1999     38\n",
       "2   2000     74\n",
       "3   2001    108\n",
       "4   2002     90\n",
       "5   2003     97\n",
       "6   2004     96\n",
       "7   2005    104\n",
       "8   2006     95\n",
       "9   2007     94\n",
       "10  2008     97\n",
       "11  2009     84\n",
       "12  2010    107\n",
       "13  2011     99\n",
       "14  2012    115\n",
       "15  2013     89\n",
       "16  2014    104\n",
       "17  2015     99\n",
       "18  2016     99\n",
       "19  2017    111\n",
       "20  2018    107\n",
       "21  2019     89\n",
       "22  2020      3"
      ]
     },
     "execution_count": 43,
     "metadata": {},
     "output_type": "execute_result"
    }
   ],
   "source": [
    "# Here we use:\n",
    "## the \"size()\" that pulls up the unique groupby count \n",
    "## the \"reset_index()\" method that resets the name of the column I want it to be\n",
    "## the \"to_frame()\" method that convert the GroupBy into a dataframe\n",
    "\n",
    "songs_by_year = top_songs.groupby(\"year\").size().to_frame(name = 'songs').reset_index()\n",
    "songs_by_year"
   ]
  },
  {
   "cell_type": "code",
   "execution_count": 44,
   "id": "fe8e1fae",
   "metadata": {
    "execution": {
     "iopub.execute_input": "2022-08-06T18:27:04.256982Z",
     "iopub.status.busy": "2022-08-06T18:27:04.256571Z",
     "iopub.status.idle": "2022-08-06T18:27:04.262365Z",
     "shell.execute_reply": "2022-08-06T18:27:04.261385Z"
    },
    "papermill": {
     "duration": 0.02237,
     "end_time": "2022-08-06T18:27:04.265001",
     "exception": false,
     "start_time": "2022-08-06T18:27:04.242631",
     "status": "completed"
    },
    "tags": []
   },
   "outputs": [
    {
     "name": "stdout",
     "output_type": "stream",
     "text": [
      "Average of songs by year: 86.95652173913044\n"
     ]
    }
   ],
   "source": [
    "# Calculating the average of observations by year\n",
    "print(\"Average of songs by year:\",songs_by_year['songs'].mean(axis = 0))"
   ]
  },
  {
   "cell_type": "markdown",
   "id": "52469e7f",
   "metadata": {
    "papermill": {
     "duration": 0.012368,
     "end_time": "2022-08-06T18:27:04.290615",
     "exception": false,
     "start_time": "2022-08-06T18:27:04.278247",
     "status": "completed"
    },
    "tags": []
   },
   "source": [
    "As we can see above, the data has:\n",
    "\n",
    "- **1** song from **1998**;\n",
    "- **38** songs from **1999**; \n",
    "- **3** songs from **2020**.\n",
    "\n",
    "By calculating the average of songs per year, the number of songs released in 1998, 1999 and 2020 are way below. So, considering the dimension of those quantities and to keep the scope of the analysis as defined by the creator of the dataset, we will drop those observations."
   ]
  },
  {
   "cell_type": "code",
   "execution_count": 45,
   "id": "88e24c03",
   "metadata": {
    "_kg_hide-output": true,
    "execution": {
     "iopub.execute_input": "2022-08-06T18:27:04.317147Z",
     "iopub.status.busy": "2022-08-06T18:27:04.316822Z",
     "iopub.status.idle": "2022-08-06T18:27:04.327990Z",
     "shell.execute_reply": "2022-08-06T18:27:04.327145Z"
    },
    "papermill": {
     "duration": 0.027055,
     "end_time": "2022-08-06T18:27:04.330238",
     "exception": false,
     "start_time": "2022-08-06T18:27:04.303183",
     "status": "completed"
    },
    "tags": []
   },
   "outputs": [
    {
     "data": {
      "text/plain": [
       "year\n",
       "2000     74\n",
       "2001    108\n",
       "2002     90\n",
       "2003     97\n",
       "2004     96\n",
       "2005    104\n",
       "2006     95\n",
       "2007     94\n",
       "2008     97\n",
       "2009     84\n",
       "2010    107\n",
       "2011     99\n",
       "2012    115\n",
       "2013     89\n",
       "2014    104\n",
       "2015     99\n",
       "2016     99\n",
       "2017    111\n",
       "2018    107\n",
       "2019     89\n",
       "Name: song, dtype: int64"
      ]
     },
     "execution_count": 45,
     "metadata": {},
     "output_type": "execute_result"
    }
   ],
   "source": [
    "# Droping the 1998, 1999 and 2020 observations\n",
    "top_songs = top_songs[(top_songs.year >= 2000) & (top_songs.year <= 2019)]\n",
    "\n",
    "# Checking if the \"year\" is in the right range\n",
    "top_songs.groupby(\"year\")[\"song\"].count()"
   ]
  },
  {
   "cell_type": "markdown",
   "id": "e0ca6fa8",
   "metadata": {
    "papermill": {
     "duration": 0.012811,
     "end_time": "2022-08-06T18:27:04.356356",
     "exception": false,
     "start_time": "2022-08-06T18:27:04.343545",
     "status": "completed"
    },
    "tags": []
   },
   "source": [
    "## 4. Analysis of data\n",
    "\n",
    "<a id=\"section-four\"></a>\n"
   ]
  },
  {
   "cell_type": "markdown",
   "id": "faa4523b",
   "metadata": {
    "papermill": {
     "duration": 0.013042,
     "end_time": "2022-08-06T18:27:04.382318",
     "exception": false,
     "start_time": "2022-08-06T18:27:04.369276",
     "status": "completed"
    },
    "tags": []
   },
   "source": [
    "After checking out if our data is in perfect condition to go through an analysis, we can start making some plots and begin to visualize some characteristics of the data, seeking for some patterns."
   ]
  },
  {
   "cell_type": "markdown",
   "id": "f4cf9fe5",
   "metadata": {
    "papermill": {
     "duration": 0.012797,
     "end_time": "2022-08-06T18:27:04.408258",
     "exception": false,
     "start_time": "2022-08-06T18:27:04.395461",
     "status": "completed"
    },
    "tags": []
   },
   "source": [
    "### a. Songs by year\n",
    "\n",
    "<a id=\"subsection-4a\"></a>"
   ]
  },
  {
   "cell_type": "markdown",
   "id": "4d329a39",
   "metadata": {
    "papermill": {
     "duration": 0.012643,
     "end_time": "2022-08-06T18:27:04.433806",
     "exception": false,
     "start_time": "2022-08-06T18:27:04.421163",
     "status": "completed"
    },
    "tags": []
   },
   "source": [
    "It is important to study the popularity of music over the years, given that we have a wide variety of new artists, new ways of disseminating art, technological innovations that change the accessibility of music and also the direction of the music industry. When we study the music of cultures this can gives us huge clues into what life and society was like, and how people felt about it at the time.\n",
    "\n",
    "Although this data comes from the Spotify platform, which has only recently existed, the popularity of old songs today reflects how the track was received at the time and how it could maintain its legacy.\n",
    "\n",
    "Therefore, it is interesting to observe the distribution of popular songs over the years in our dataset and verify which years were more or less prominent in the musical environment and try to seek a minimal explanation for that, using some of the features of the songs."
   ]
  },
  {
   "cell_type": "code",
   "execution_count": 46,
   "id": "385b4d4b",
   "metadata": {
    "execution": {
     "iopub.execute_input": "2022-08-06T18:27:04.462297Z",
     "iopub.status.busy": "2022-08-06T18:27:04.461063Z",
     "iopub.status.idle": "2022-08-06T18:27:04.794948Z",
     "shell.execute_reply": "2022-08-06T18:27:04.794248Z"
    },
    "papermill": {
     "duration": 0.349911,
     "end_time": "2022-08-06T18:27:04.796732",
     "exception": false,
     "start_time": "2022-08-06T18:27:04.446821",
     "status": "completed"
    },
    "tags": []
   },
   "outputs": [
    {
     "data": {
      "image/png": "[encoded data removed]",
      "text/plain": [
       "<Figure size 1296x504 with 1 Axes>"
      ]
     },
     "metadata": {},
     "output_type": "display_data"
    }
   ],
   "source": [
    "# Creating again a dataframe of songs by year, this time without 1998, 1999 and 2020\n",
    "songs_by_year = top_songs.groupby(\"year\").size().to_frame(name = 'songs').reset_index()\n",
    "\n",
    "# plotting a bar chart\n",
    "plt.figure(figsize = (18,7))\n",
    "plots = sns.barplot(x = 'year', y = 'songs', data = songs_by_year, palette = 'viridis')\n",
    "\n",
    "# Iterrating over the bars one-by-one to create the value labels\n",
    "for bar in plots.patches:\n",
    "   \n",
    "  # Using Matplotlib's annotate function and passing the coordinates where the annotation shall be done\n",
    "      ## x-coordinate: bar.get_x() + bar.get_width() / 2\n",
    "      ## y-coordinate: bar.get_height()\n",
    "      ## decimals of annotation: '.0f'\n",
    "      ## free space to be left to make graph pleasing: (0, 8)\n",
    "      ## ha and va stand for the horizontal and vertical alignment\n",
    "\n",
    "        plots.annotate(format(bar.get_height(), '.0f'),\n",
    "                   (bar.get_x() + bar.get_width() / 2,\n",
    "                    bar.get_height()), ha='center', va='center',\n",
    "                   size=10, xytext=(0, 8),\n",
    "                   textcoords='offset points')\n",
    "    \n",
    "\n",
    "# naming the x-axis and the y-axis\n",
    "plt.xlabel('Year of release', size = 13)\n",
    "plt.ylabel('Number of songs', size = 13)\n",
    "  \n",
    "# title of the graph\n",
    "plt.title('Number of songs by year (2000 - 2019)', size = 18)\n",
    "  \n",
    "# function to show the plot\n",
    "plt.show()"
   ]
  },
  {
   "cell_type": "markdown",
   "id": "6bc68823",
   "metadata": {
    "papermill": {
     "duration": 0.012792,
     "end_time": "2022-08-06T18:27:04.822881",
     "exception": false,
     "start_time": "2022-08-06T18:27:04.810089",
     "status": "completed"
    },
    "tags": []
   },
   "source": [
    "We can conclude that, from 2000 to 2019:\n",
    "\n",
    "The highests number of hit songs were in the year of:\n",
    "\n",
    "* **2012** (115 top hits); \n",
    "* **2017** (111 top hits); \n",
    "* **2001** (108 top hits).\n",
    "\n",
    "On the other side, thee lowest numbers of hit songs were in the year of:\n",
    "\n",
    "* **2000** (74 top hits);\n",
    "* **2009** (84 top hits); \n",
    "* **2013** and **2019** (89 top hits each)"
   ]
  },
  {
   "cell_type": "code",
   "execution_count": 47,
   "id": "579482c4",
   "metadata": {
    "_kg_hide-input": true,
    "execution": {
     "iopub.execute_input": "2022-08-06T18:27:04.851356Z",
     "iopub.status.busy": "2022-08-06T18:27:04.850173Z",
     "iopub.status.idle": "2022-08-06T18:27:04.855213Z",
     "shell.execute_reply": "2022-08-06T18:27:04.854254Z"
    },
    "papermill": {
     "duration": 0.021295,
     "end_time": "2022-08-06T18:27:04.857135",
     "exception": false,
     "start_time": "2022-08-06T18:27:04.835840",
     "status": "completed"
    },
    "tags": []
   },
   "outputs": [],
   "source": [
    "#pd.set_option('display.max_rows', None)\n",
    "#pd.options.display.max_rows = 100\n",
    "\n",
    "#display(top_songs[(top_songs.year == 2012)])"
   ]
  },
  {
   "cell_type": "markdown",
   "id": "4849bdd6",
   "metadata": {
    "papermill": {
     "duration": 0.013177,
     "end_time": "2022-08-06T18:27:04.883860",
     "exception": false,
     "start_time": "2022-08-06T18:27:04.870683",
     "status": "completed"
    },
    "tags": []
   },
   "source": [
    "Let's see if we can find something especial about the categories (mood, properties and context) of the songs from the best and worst years. We will filter the data in two groups and make a violin chart.\n",
    "\n",
    "The violin chart will help us to visualize if we are dealing with some multimodal or uniform data distribution."
   ]
  },
  {
   "cell_type": "code",
   "execution_count": 48,
   "id": "a4556d1a",
   "metadata": {
    "_kg_hide-output": true,
    "execution": {
     "iopub.execute_input": "2022-08-06T18:27:04.913234Z",
     "iopub.status.busy": "2022-08-06T18:27:04.911867Z",
     "iopub.status.idle": "2022-08-06T18:27:04.934161Z",
     "shell.execute_reply": "2022-08-06T18:27:04.932897Z"
    },
    "papermill": {
     "duration": 0.03864,
     "end_time": "2022-08-06T18:27:04.935916",
     "exception": false,
     "start_time": "2022-08-06T18:27:04.897276",
     "status": "completed"
    },
    "tags": []
   },
   "outputs": [
    {
     "name": "stderr",
     "output_type": "stream",
     "text": [
      "C:\\Users\\aadit\\AppData\\Local\\Temp\\ipykernel_10940\\2765273462.py:23: SettingWithCopyWarning:\n",
      "\n",
      "\n",
      "A value is trying to be set on a copy of a slice from a DataFrame.\n",
      "Try using .loc[row_indexer,col_indexer] = value instead\n",
      "\n",
      "See the caveats in the documentation: https://pandas.pydata.org/pandas-docs/stable/user_guide/indexing.html#returning-a-view-versus-a-copy\n",
      "\n"
     ]
    },
    {
     "data": {
      "text/html": [
       "<div>\n",
       "<style scoped>\n",
       "    .dataframe tbody tr th:only-of-type {\n",
       "        vertical-align: middle;\n",
       "    }\n",
       "\n",
       "    .dataframe tbody tr th {\n",
       "        vertical-align: top;\n",
       "    }\n",
       "\n",
       "    .dataframe thead th {\n",
       "        text-align: right;\n",
       "    }\n",
       "</style>\n",
       "<table border=\"1\" class=\"dataframe\">\n",
       "  <thead>\n",
       "    <tr style=\"text-align: right;\">\n",
       "      <th></th>\n",
       "      <th>year</th>\n",
       "      <th>year_top_bottom_hits</th>\n",
       "      <th>songs</th>\n",
       "    </tr>\n",
       "  </thead>\n",
       "  <tbody>\n",
       "    <tr>\n",
       "      <th>0</th>\n",
       "      <td>2000</td>\n",
       "      <td>bottom_years</td>\n",
       "      <td>74</td>\n",
       "    </tr>\n",
       "    <tr>\n",
       "      <th>1</th>\n",
       "      <td>2001</td>\n",
       "      <td>top_years</td>\n",
       "      <td>108</td>\n",
       "    </tr>\n",
       "    <tr>\n",
       "      <th>2</th>\n",
       "      <td>2009</td>\n",
       "      <td>bottom_years</td>\n",
       "      <td>84</td>\n",
       "    </tr>\n",
       "    <tr>\n",
       "      <th>3</th>\n",
       "      <td>2012</td>\n",
       "      <td>top_years</td>\n",
       "      <td>115</td>\n",
       "    </tr>\n",
       "    <tr>\n",
       "      <th>4</th>\n",
       "      <td>2013</td>\n",
       "      <td>bottom_years</td>\n",
       "      <td>89</td>\n",
       "    </tr>\n",
       "    <tr>\n",
       "      <th>5</th>\n",
       "      <td>2017</td>\n",
       "      <td>top_years</td>\n",
       "      <td>111</td>\n",
       "    </tr>\n",
       "    <tr>\n",
       "      <th>6</th>\n",
       "      <td>2019</td>\n",
       "      <td>bottom_years</td>\n",
       "      <td>89</td>\n",
       "    </tr>\n",
       "  </tbody>\n",
       "</table>\n",
       "</div>"
      ],
      "text/plain": [
       "   year year_top_bottom_hits  songs\n",
       "0  2000         bottom_years     74\n",
       "1  2001            top_years    108\n",
       "2  2009         bottom_years     84\n",
       "3  2012            top_years    115\n",
       "4  2013         bottom_years     89\n",
       "5  2017            top_years    111\n",
       "6  2019         bottom_years     89"
      ]
     },
     "metadata": {},
     "output_type": "display_data"
    }
   ],
   "source": [
    "# Creating a new filtered datafram containing only the top and bottom years of hits\n",
    "\n",
    "top_down_features = top_songs[(top_songs.year == 2012) |\n",
    "                              (top_songs.year == 2017) |\n",
    "                              (top_songs.year == 2001) |\n",
    "                              (top_songs.year == 2000) |\n",
    "                              (top_songs.year == 2009) |\n",
    "                              (top_songs.year == 2013) |\n",
    "                              (top_songs.year == 2019)]\n",
    "\n",
    "# Creating a new column with a flag indicating if top or bottom year\n",
    "\n",
    "# create a list of our conditions\n",
    "conditions = [\n",
    "    (top_down_features['year'] == 2012) | (top_down_features['year'] == 2017) | (top_down_features['year'] == 2001),\n",
    "    (top_down_features['year'] == 2000) | (top_down_features['year'] == 2009) | (top_down_features['year'] == 2013) | (top_down_features['year'] == 2019)\n",
    "    ]\n",
    "\n",
    "# create a list of the values we want to assign for each condition\n",
    "values = ['top_years', 'bottom_years']\n",
    "\n",
    "# create a new column and use np.select to assign values to it using our lists as arguments\n",
    "top_down_features['year_top_bottom_hits'] = np.select(conditions, values)\n",
    "\n",
    "display(top_down_features[['year','year_top_bottom_hits']] \\\n",
    "        .groupby(['year', 'year_top_bottom_hits']) \\\n",
    "        .size().to_frame(name = 'songs').reset_index())"
   ]
  },
  {
   "cell_type": "code",
   "execution_count": 49,
   "id": "44ddcf36",
   "metadata": {
    "execution": {
     "iopub.execute_input": "2022-08-06T18:27:04.965136Z",
     "iopub.status.busy": "2022-08-06T18:27:04.964520Z",
     "iopub.status.idle": "2022-08-06T18:27:06.153575Z",
     "shell.execute_reply": "2022-08-06T18:27:06.152480Z"
    },
    "papermill": {
     "duration": 1.206051,
     "end_time": "2022-08-06T18:27:06.155522",
     "exception": false,
     "start_time": "2022-08-06T18:27:04.949471",
     "status": "completed"
    },
    "scrolled": true,
    "tags": []
   },
   "outputs": [
    {
     "data": {
      "image/png": "[encoded data removed]",
      "text/plain": [
       "<Figure size 1152x720 with 8 Axes>"
      ]
     },
     "metadata": {},
     "output_type": "display_data"
    }
   ],
   "source": [
    "# Ploting the violin charts using subplots()\n",
    "\n",
    "plt.subplots(figsize=(16, 10),sharey=True)\n",
    "\n",
    "                         #-#-#-#-#-#-#-#-#-#-#-#-#-#-#-#-#-#-#-#-\n",
    "\n",
    "# danceability\n",
    "# using subplot function and creating plot one\n",
    "ax1 = plt.subplot(4,4,1)  # row 1, column 2, count 1\n",
    "\n",
    "sns.violinplot( x = \"year_top_bottom_hits\",    \\\n",
    "               y =\"danceability\",              \\\n",
    "               data = top_down_features,       \\\n",
    "               hue = \"year_top_bottom_hits\",   \\\n",
    "               linewidth=1.5,                  \\\n",
    "               palette = \"husl\")\n",
    "\n",
    "plt.title(\"Violin chart comparision of danceability\", loc=\"center\",fontsize=10)\n",
    "\n",
    "plt.xlabel(\"Years group\")\n",
    "plt.ylabel(\"danceability\")\n",
    "plt.legend([],[], frameon=False)\n",
    " \n",
    "                         #-#-#-#-#-#-#-#-#-#-#-#-#-#-#-#-#-#-#-#-\n",
    "\n",
    "# energy\n",
    "ax2 = plt.subplot(4, 4, 2)\n",
    "\n",
    "sns.violinplot( x = \"year_top_bottom_hits\",    \\\n",
    "               y =\"energy\",                    \\\n",
    "               data = top_down_features,       \\\n",
    "               hue = \"year_top_bottom_hits\",   \\\n",
    "               linewidth=1.5,                  \\\n",
    "               palette = \"husl\")\n",
    "\n",
    "plt.title(\"Violin chart comparision of energy\", loc=\"center\", fontsize=10)\n",
    "\n",
    "plt.xlabel(\"Years group\")\n",
    "plt.ylabel(\"energy\")\n",
    "plt.legend([],[], frameon=False)\n",
    "\n",
    "                         #-#-#-#-#-#-#-#-#-#-#-#-#-#-#-#-#-#-#-#-\n",
    "\n",
    "# loudness\n",
    "ax3 = plt.subplot(4,4,3)\n",
    "\n",
    "sns.violinplot( x = \"year_top_bottom_hits\",  \\\n",
    "               y =\"loudness\",                \\\n",
    "               data = top_down_features,     \\\n",
    "               hue = \"year_top_bottom_hits\", \\\n",
    "               linewidth=1.5,                \\\n",
    "               palette = \"husl\")\n",
    "\n",
    "plt.title(\"Violin chart comparision of loudness\", loc=\"center\", fontsize=10)\n",
    "plt.xlabel(\"Years group\")\n",
    "plt.ylabel(\"loudness\")\n",
    "plt.legend([],[], frameon=False)\n",
    "\n",
    "                         #-#-#-#-#-#-#-#-#-#-#-#-#-#-#-#-#-#-#-#-\n",
    "\n",
    "# speechiness\n",
    "ax4 = plt.subplot(4, 4, 4)\n",
    "\n",
    "sns.violinplot( x = \"year_top_bottom_hits\",  \\\n",
    "               y =\"speechiness\",             \\\n",
    "               data = top_down_features,     \\\n",
    "               hue = \"year_top_bottom_hits\", \\\n",
    "               linewidth=1.5,                \\\n",
    "               palette = \"husl\")\n",
    "\n",
    "plt.title(\"Violin chart comparision of speechiness\", loc=\"center\", fontsize=10)\n",
    "plt.xlabel(\"Years group\")\n",
    "plt.ylabel(\"speechiness\")\n",
    "plt.legend([],[], frameon=False)\n",
    "\n",
    "                         #-#-#-#-#-#-#-#-#-#-#-#-#-#-#-#-#-#-#-#-\n",
    "\n",
    "# acousticness\n",
    "ax5 = plt.subplot(4, 4, 5)\n",
    "\n",
    "sns.violinplot( x = \"year_top_bottom_hits\",  \\\n",
    "               y =\"acousticness\",            \\\n",
    "               data = top_down_features,     \\\n",
    "               hue = \"year_top_bottom_hits\", \\\n",
    "               linewidth=1.5,                \\\n",
    "               palette = \"husl\")\n",
    "\n",
    "plt.title(\"Violin chart comparision of acousticness\", loc=\"center\", fontsize=10)\n",
    "plt.xlabel(\"Years group\")\n",
    "plt.ylabel(\"acousticness\")\n",
    "plt.legend([],[], frameon=False)\n",
    "\n",
    "                         #-#-#-#-#-#-#-#-#-#-#-#-#-#-#-#-#-#-#-#-\n",
    "\n",
    "# instrumentalness\n",
    "ax6 = plt.subplot(4, 4, 6)\n",
    "\n",
    "sns.violinplot( x = \"year_top_bottom_hits\",    \\\n",
    "               y =\"instrumentalness\",          \\\n",
    "               data = top_down_features,       \\\n",
    "               hue = \"year_top_bottom_hits\",   \\\n",
    "               linewidth=1.5,                  \\\n",
    "               palette = \"husl\")\n",
    "\n",
    "plt.title(\"Violin chart comparision of instrumentalness\", loc=\"center\", fontsize=10)\n",
    "plt.xlabel(\"Years group\")\n",
    "plt.ylabel(\"instrumentalness\")\n",
    "plt.legend([],[], frameon=False)\n",
    "\n",
    "                         #-#-#-#-#-#-#-#-#-#-#-#-#-#-#-#-#-#-#-#-\n",
    "\n",
    "# liveness\n",
    "ax7 = plt.subplot(4, 4, 7)\n",
    "\n",
    "sns.violinplot( x = \"year_top_bottom_hits\",   \\\n",
    "               y =\"liveness\",                 \\\n",
    "               data = top_down_features,      \\\n",
    "               hue = \"year_top_bottom_hits\",  \\\n",
    "               linewidth=1.5,                 \\\n",
    "               palette = \"husl\")\n",
    "\n",
    "plt.title(\"Violin chart comparision of liveness\", loc=\"center\", fontsize=10)\n",
    "plt.xlabel(\"Years group\")\n",
    "plt.ylabel(\"liveness\")\n",
    "plt.legend([],[], frameon=False)\n",
    "\n",
    "                         #-#-#-#-#-#-#-#-#-#-#-#-#-#-#-#-#-#-#-#-\n",
    "\n",
    "# valence\n",
    "ax8 = plt.subplot(4, 4, 8)\n",
    "\n",
    "sns.violinplot( x = \"year_top_bottom_hits\",           \\\n",
    "               y =\"valence\",data = top_down_features, \\\n",
    "               hue = \"year_top_bottom_hits\",          \\\n",
    "               linewidth=1.5,                         \\\n",
    "               palette = \"husl\")\n",
    "\n",
    "plt.title(\"Violin chart comparision of valence\", loc=\"center\", fontsize=10)\n",
    "\n",
    "plt.xlabel(\"Years group\")\n",
    "plt.ylabel(\"valence\")\n",
    "plt.legend([],[], frameon=False)\n",
    "\n",
    "                         #-#-#-#-#-#-#-#-#-#-#-#-#-#-#-#-#-#-#-#-\n",
    "\n",
    "# space between the plots\n",
    "plt.tight_layout()\n",
    " \n",
    "# show plot\n",
    "plt.show()"
   ]
  },
  {
   "cell_type": "markdown",
   "id": "28efe489",
   "metadata": {
    "papermill": {
     "duration": 0.014468,
     "end_time": "2022-08-06T18:27:06.184919",
     "exception": false,
     "start_time": "2022-08-06T18:27:06.170451",
     "status": "completed"
    },
    "tags": []
   },
   "source": [
    "The characteristics of the songs of the two groups have very similar patterns. Most have a **high average of danceability, energy and loudness**, as opposed to **low concentration in speechiness, acousticness, instrumentalness and liveness**.\n",
    "\n",
    "So, there is a certain pattern for the songs to be successful in general, which is being more lively, intense and appropriate for party occasions or just simply to dance and cheer up."
   ]
  },
  {
   "cell_type": "markdown",
   "id": "12444b38",
   "metadata": {
    "papermill": {
     "duration": 0.014277,
     "end_time": "2022-08-06T18:27:06.213942",
     "exception": false,
     "start_time": "2022-08-06T18:27:06.199665",
     "status": "completed"
    },
    "tags": []
   },
   "source": [
    "### b. Music genre\n",
    "\n",
    "<a id=\"subsection-4b\"></a>"
   ]
  },
  {
   "cell_type": "markdown",
   "id": "a44bfcc2",
   "metadata": {
    "papermill": {
     "duration": 0.014516,
     "end_time": "2022-08-06T18:27:06.243623",
     "exception": false,
     "start_time": "2022-08-06T18:27:06.229107",
     "status": "completed"
    },
    "tags": []
   },
   "source": [
    "Genres are important because it dictate what the audience expects from it and often tells a history of that music's development. Although a lot of music doesn't fit in boxes so easily, it is a great tool for a number of different musical business purposes. Because of that, you're able to give some musical points of reference in the form of a genre description, whether you're the manager of a band and you're trying to look for specific contracts or places that have the specific audience that the band's music genre appeals to. Or even create a radio segmentation for an audience that likes a specific genre and meet a market demand, for example.\n",
    "\n",
    "There's also the cultural and historical argument. As Heather McDonald stated in the article \"***What Is a Music Genre?***\":\n",
    "> *Subgenres tend to have a culture all their own. Fans of a particular subgenre of music may tend to flock to the same kinds of venues and same kinds of shops, listen to the same radio stations, watch the same movies, and use the same websites. This kind of information is invaluable when it comes to promoting and marketing music and putting together live shows.* ([Source](https://www.thebalancecareers.com/music-genre-what-is-it-and-why-does-it-matter-2460500))\n",
    "\n",
    "All of that ilustrate a little why it's relevant the analysis of music genre in this dataset. That meet one of the main purpose of data analysis, which is to help society to make decisions."
   ]
  },
  {
   "cell_type": "code",
   "execution_count": 50,
   "id": "3780e028",
   "metadata": {
    "execution": {
     "iopub.execute_input": "2022-08-06T18:27:06.275351Z",
     "iopub.status.busy": "2022-08-06T18:27:06.274709Z",
     "iopub.status.idle": "2022-08-06T18:27:06.285769Z",
     "shell.execute_reply": "2022-08-06T18:27:06.284995Z"
    },
    "papermill": {
     "duration": 0.028661,
     "end_time": "2022-08-06T18:27:06.287365",
     "exception": false,
     "start_time": "2022-08-06T18:27:06.258704",
     "status": "completed"
    },
    "tags": []
   },
   "outputs": [
    {
     "data": {
      "text/html": [
       "<div>\n",
       "<style scoped>\n",
       "    .dataframe tbody tr th:only-of-type {\n",
       "        vertical-align: middle;\n",
       "    }\n",
       "\n",
       "    .dataframe tbody tr th {\n",
       "        vertical-align: top;\n",
       "    }\n",
       "\n",
       "    .dataframe thead th {\n",
       "        text-align: right;\n",
       "    }\n",
       "</style>\n",
       "<table border=\"1\" class=\"dataframe\">\n",
       "  <thead>\n",
       "    <tr style=\"text-align: right;\">\n",
       "      <th></th>\n",
       "      <th>genre</th>\n",
       "      <th>songs</th>\n",
       "    </tr>\n",
       "  </thead>\n",
       "  <tbody>\n",
       "    <tr>\n",
       "      <th>30</th>\n",
       "      <td>pop</td>\n",
       "      <td>416</td>\n",
       "    </tr>\n",
       "    <tr>\n",
       "      <th>19</th>\n",
       "      <td>hip hop, pop</td>\n",
       "      <td>275</td>\n",
       "    </tr>\n",
       "    <tr>\n",
       "      <th>21</th>\n",
       "      <td>hip hop, pop, R&amp;B</td>\n",
       "      <td>240</td>\n",
       "    </tr>\n",
       "    <tr>\n",
       "      <th>31</th>\n",
       "      <td>pop, Dance/Electronic</td>\n",
       "      <td>219</td>\n",
       "    </tr>\n",
       "    <tr>\n",
       "      <th>33</th>\n",
       "      <td>pop, R&amp;B</td>\n",
       "      <td>173</td>\n",
       "    </tr>\n",
       "    <tr>\n",
       "      <th>14</th>\n",
       "      <td>hip hop</td>\n",
       "      <td>121</td>\n",
       "    </tr>\n",
       "    <tr>\n",
       "      <th>20</th>\n",
       "      <td>hip hop, pop, Dance/Electronic</td>\n",
       "      <td>78</td>\n",
       "    </tr>\n",
       "    <tr>\n",
       "      <th>44</th>\n",
       "      <td>rock</td>\n",
       "      <td>57</td>\n",
       "    </tr>\n",
       "    <tr>\n",
       "      <th>53</th>\n",
       "      <td>rock, pop</td>\n",
       "      <td>41</td>\n",
       "    </tr>\n",
       "    <tr>\n",
       "      <th>0</th>\n",
       "      <td>Dance/Electronic</td>\n",
       "      <td>40</td>\n",
       "    </tr>\n",
       "  </tbody>\n",
       "</table>\n",
       "</div>"
      ],
      "text/plain": [
       "                             genre  songs\n",
       "30                             pop    416\n",
       "19                    hip hop, pop    275\n",
       "21               hip hop, pop, R&B    240\n",
       "31           pop, Dance/Electronic    219\n",
       "33                        pop, R&B    173\n",
       "14                         hip hop    121\n",
       "20  hip hop, pop, Dance/Electronic     78\n",
       "44                            rock     57\n",
       "53                       rock, pop     41\n",
       "0                 Dance/Electronic     40"
      ]
     },
     "execution_count": 50,
     "metadata": {},
     "output_type": "execute_result"
    }
   ],
   "source": [
    "# First let's group and count all music genres in the dataset and get the top 10\n",
    "songs_by_genre = top_songs \\\n",
    "                    .groupby(\"genre\") \\\n",
    "                    .size().to_frame(name = 'songs').reset_index() \\\n",
    "                    .sort_values(['songs'],ascending=False).head(10)\n",
    "\n",
    "songs_by_genre"
   ]
  },
  {
   "cell_type": "code",
   "execution_count": 51,
   "id": "ea3c824d",
   "metadata": {
    "execution": {
     "iopub.execute_input": "2022-08-06T18:27:06.457097Z",
     "iopub.status.busy": "2022-08-06T18:27:06.456465Z",
     "iopub.status.idle": "2022-08-06T18:27:06.650821Z",
     "shell.execute_reply": "2022-08-06T18:27:06.649762Z"
    },
    "papermill": {
     "duration": 0.218247,
     "end_time": "2022-08-06T18:27:06.652833",
     "exception": false,
     "start_time": "2022-08-06T18:27:06.434586",
     "status": "completed"
    },
    "tags": []
   },
   "outputs": [
    {
     "data": {
      "image/png": "[encoded data removed]",
      "text/plain": [
       "<Figure size 720x504 with 1 Axes>"
      ]
     },
     "metadata": {},
     "output_type": "display_data"
    }
   ],
   "source": [
    "# plotting a bar chart\n",
    "plt.figure(figsize = (10,7))\n",
    "plots = sns.barplot(x = 'songs', y = 'genre', data = songs_by_genre, palette = 'rocket')  \n",
    "\n",
    "# naming the x-axis and the y-axis\n",
    "plt.xlabel('Number of songs', size = 13)\n",
    "plt.ylabel('Genre', size = 13)\n",
    "  \n",
    "# title of the graph\n",
    "plt.title('Number of songs by genre (2000 - 2019)', size = 18)\n",
    "  \n",
    "# function to show the plot\n",
    "plt.show()"
   ]
  },
  {
   "cell_type": "markdown",
   "id": "d73680b6",
   "metadata": {
    "papermill": {
     "duration": 0.038897,
     "end_time": "2022-08-06T18:27:06.707625",
     "exception": false,
     "start_time": "2022-08-06T18:27:06.668728",
     "status": "completed"
    },
    "tags": []
   },
   "source": [
    "It's interesting to notice that almost every category of the TOP 10 has some \"pop\" in it. But how does the different combinations of pop with others styles behave in popularity? We'll see."
   ]
  },
  {
   "cell_type": "code",
   "execution_count": 52,
   "id": "1a4dbc42",
   "metadata": {
    "_kg_hide-input": true,
    "_kg_hide-output": true,
    "execution": {
     "iopub.execute_input": "2022-08-06T18:27:06.741224Z",
     "iopub.status.busy": "2022-08-06T18:27:06.740602Z",
     "iopub.status.idle": "2022-08-06T18:27:06.761680Z",
     "shell.execute_reply": "2022-08-06T18:27:06.760983Z"
    },
    "papermill": {
     "duration": 0.039949,
     "end_time": "2022-08-06T18:27:06.763608",
     "exception": false,
     "start_time": "2022-08-06T18:27:06.723659",
     "status": "completed"
    },
    "tags": []
   },
   "outputs": [
    {
     "data": {
      "text/html": [
       "<div>\n",
       "<style scoped>\n",
       "    .dataframe tbody tr th:only-of-type {\n",
       "        vertical-align: middle;\n",
       "    }\n",
       "\n",
       "    .dataframe tbody tr th {\n",
       "        vertical-align: top;\n",
       "    }\n",
       "\n",
       "    .dataframe thead th {\n",
       "        text-align: right;\n",
       "    }\n",
       "</style>\n",
       "<table border=\"1\" class=\"dataframe\">\n",
       "  <thead>\n",
       "    <tr style=\"text-align: right;\">\n",
       "      <th></th>\n",
       "      <th>year</th>\n",
       "      <th>genre</th>\n",
       "      <th>songs</th>\n",
       "    </tr>\n",
       "  </thead>\n",
       "  <tbody>\n",
       "    <tr>\n",
       "      <th>0</th>\n",
       "      <td>2000</td>\n",
       "      <td>Dance/Electronic</td>\n",
       "      <td>1</td>\n",
       "    </tr>\n",
       "    <tr>\n",
       "      <th>1</th>\n",
       "      <td>2001</td>\n",
       "      <td>Dance/Electronic</td>\n",
       "      <td>5</td>\n",
       "    </tr>\n",
       "    <tr>\n",
       "      <th>2</th>\n",
       "      <td>2002</td>\n",
       "      <td>Dance/Electronic</td>\n",
       "      <td>1</td>\n",
       "    </tr>\n",
       "    <tr>\n",
       "      <th>3</th>\n",
       "      <td>2003</td>\n",
       "      <td>Dance/Electronic</td>\n",
       "      <td>1</td>\n",
       "    </tr>\n",
       "    <tr>\n",
       "      <th>4</th>\n",
       "      <td>2004</td>\n",
       "      <td>Dance/Electronic</td>\n",
       "      <td>2</td>\n",
       "    </tr>\n",
       "    <tr>\n",
       "      <th>...</th>\n",
       "      <td>...</td>\n",
       "      <td>...</td>\n",
       "      <td>...</td>\n",
       "    </tr>\n",
       "    <tr>\n",
       "      <th>176</th>\n",
       "      <td>2015</td>\n",
       "      <td>hip hop, pop, Dance/Electronic</td>\n",
       "      <td>5</td>\n",
       "    </tr>\n",
       "    <tr>\n",
       "      <th>177</th>\n",
       "      <td>2016</td>\n",
       "      <td>hip hop, pop, Dance/Electronic</td>\n",
       "      <td>11</td>\n",
       "    </tr>\n",
       "    <tr>\n",
       "      <th>178</th>\n",
       "      <td>2017</td>\n",
       "      <td>hip hop, pop, Dance/Electronic</td>\n",
       "      <td>6</td>\n",
       "    </tr>\n",
       "    <tr>\n",
       "      <th>179</th>\n",
       "      <td>2018</td>\n",
       "      <td>hip hop, pop, Dance/Electronic</td>\n",
       "      <td>5</td>\n",
       "    </tr>\n",
       "    <tr>\n",
       "      <th>180</th>\n",
       "      <td>2019</td>\n",
       "      <td>hip hop, pop, Dance/Electronic</td>\n",
       "      <td>3</td>\n",
       "    </tr>\n",
       "  </tbody>\n",
       "</table>\n",
       "<p>181 rows × 3 columns</p>\n",
       "</div>"
      ],
      "text/plain": [
       "     year                           genre  songs\n",
       "0    2000                Dance/Electronic      1\n",
       "1    2001                Dance/Electronic      5\n",
       "2    2002                Dance/Electronic      1\n",
       "3    2003                Dance/Electronic      1\n",
       "4    2004                Dance/Electronic      2\n",
       "..    ...                             ...    ...\n",
       "176  2015  hip hop, pop, Dance/Electronic      5\n",
       "177  2016  hip hop, pop, Dance/Electronic     11\n",
       "178  2017  hip hop, pop, Dance/Electronic      6\n",
       "179  2018  hip hop, pop, Dance/Electronic      5\n",
       "180  2019  hip hop, pop, Dance/Electronic      3\n",
       "\n",
       "[181 rows x 3 columns]"
      ]
     },
     "execution_count": 52,
     "metadata": {},
     "output_type": "execute_result"
    }
   ],
   "source": [
    "# Creating a dataframe with the number of each genre per year (and convertig 'year' as time variable)\n",
    "songs_by_genre_year = top_songs[['year','genre']] \\\n",
    "                    .groupby(['year', 'genre']) \\\n",
    "                    .size().to_frame(name = 'songs').reset_index()\n",
    "\n",
    "songs_by_genre_year['year'] = songs_by_genre_year['year'].astype(int)\n",
    "\n",
    "\n",
    "# Inner join to limit the genres to ones on the top 10\n",
    "songs_by_genre_year = pd.merge(songs_by_genre_year, songs_by_genre['genre'], \\\n",
    "                               on = 'genre', \\\n",
    "                               how='inner')\n",
    "songs_by_genre_year"
   ]
  },
  {
   "cell_type": "markdown",
   "id": "79f19806",
   "metadata": {
    "papermill": {
     "duration": 0.015154,
     "end_time": "2022-08-06T18:27:06.794536",
     "exception": false,
     "start_time": "2022-08-06T18:27:06.779382",
     "status": "completed"
    },
    "tags": []
   },
   "source": [
    "To visualize how the data of the TOP 5 musical genres behave over time, we will use a \"[*polynomial fit*](https://numpy.org/doc/stable/reference/generated/numpy.polyfit.html)\" procedure from NumPy, which will add a trend line to the graphs."
   ]
  },
  {
   "cell_type": "markdown",
   "id": "9becb577",
   "metadata": {
    "papermill": {
     "duration": 0.016052,
     "end_time": "2022-08-06T18:27:07.502753",
     "exception": false,
     "start_time": "2022-08-06T18:27:07.486701",
     "status": "completed"
    },
    "tags": []
   },
   "source": [
    "### c. Top artists\n",
    "\n",
    "<a id=\"subsection-4c\"></a>\n",
    "\n",
    "Obsvously, after we study the number of hits and it's genres, we have to see who are the artists behind them! In the music industry there's a phenomenon called \"one-hit wonders\", which is \"*a musical artist who is successful with one hit song, but without a comparable subsequent hit*\" (Wikipedia definition).\n",
    "\n",
    "But some musicians can mantain a certain stability in popularity, releasing tons of hit songs and becoming living icons. In this step we are going to discover who are those in the new millenium."
   ]
  },
  {
   "cell_type": "code",
   "execution_count": 53,
   "id": "94537e29",
   "metadata": {
    "execution": {
     "iopub.execute_input": "2022-08-06T18:27:07.537674Z",
     "iopub.status.busy": "2022-08-06T18:27:07.537307Z",
     "iopub.status.idle": "2022-08-06T18:27:07.562393Z",
     "shell.execute_reply": "2022-08-06T18:27:07.561499Z"
    },
    "papermill": {
     "duration": 0.045047,
     "end_time": "2022-08-06T18:27:07.564329",
     "exception": false,
     "start_time": "2022-08-06T18:27:07.519282",
     "status": "completed"
    },
    "tags": []
   },
   "outputs": [
    {
     "data": {
      "text/html": [
       "<div>\n",
       "<style scoped>\n",
       "    .dataframe tbody tr th:only-of-type {\n",
       "        vertical-align: middle;\n",
       "    }\n",
       "\n",
       "    .dataframe tbody tr th {\n",
       "        vertical-align: top;\n",
       "    }\n",
       "\n",
       "    .dataframe thead th {\n",
       "        text-align: right;\n",
       "    }\n",
       "</style>\n",
       "<table border=\"1\" class=\"dataframe\">\n",
       "  <thead>\n",
       "    <tr style=\"text-align: right;\">\n",
       "      <th></th>\n",
       "      <th>artist</th>\n",
       "      <th>popularity</th>\n",
       "      <th>song</th>\n",
       "    </tr>\n",
       "  </thead>\n",
       "  <tbody>\n",
       "    <tr>\n",
       "      <th>0</th>\n",
       "      <td>Rihanna</td>\n",
       "      <td>1803</td>\n",
       "      <td>25</td>\n",
       "    </tr>\n",
       "    <tr>\n",
       "      <th>1</th>\n",
       "      <td>Eminem</td>\n",
       "      <td>1519</td>\n",
       "      <td>21</td>\n",
       "    </tr>\n",
       "    <tr>\n",
       "      <th>2</th>\n",
       "      <td>Drake</td>\n",
       "      <td>1424</td>\n",
       "      <td>23</td>\n",
       "    </tr>\n",
       "    <tr>\n",
       "      <th>3</th>\n",
       "      <td>Calvin Harris</td>\n",
       "      <td>1356</td>\n",
       "      <td>20</td>\n",
       "    </tr>\n",
       "    <tr>\n",
       "      <th>4</th>\n",
       "      <td>David Guetta</td>\n",
       "      <td>1185</td>\n",
       "      <td>18</td>\n",
       "    </tr>\n",
       "    <tr>\n",
       "      <th>5</th>\n",
       "      <td>Britney Spears</td>\n",
       "      <td>1140</td>\n",
       "      <td>18</td>\n",
       "    </tr>\n",
       "    <tr>\n",
       "      <th>6</th>\n",
       "      <td>Taylor Swift</td>\n",
       "      <td>1125</td>\n",
       "      <td>16</td>\n",
       "    </tr>\n",
       "    <tr>\n",
       "      <th>7</th>\n",
       "      <td>Chris Brown</td>\n",
       "      <td>1080</td>\n",
       "      <td>17</td>\n",
       "    </tr>\n",
       "    <tr>\n",
       "      <th>8</th>\n",
       "      <td>Kanye West</td>\n",
       "      <td>1049</td>\n",
       "      <td>17</td>\n",
       "    </tr>\n",
       "    <tr>\n",
       "      <th>9</th>\n",
       "      <td>Katy Perry</td>\n",
       "      <td>1033</td>\n",
       "      <td>16</td>\n",
       "    </tr>\n",
       "  </tbody>\n",
       "</table>\n",
       "</div>"
      ],
      "text/plain": [
       "           artist  popularity  song\n",
       "0         Rihanna        1803    25\n",
       "1          Eminem        1519    21\n",
       "2           Drake        1424    23\n",
       "3   Calvin Harris        1356    20\n",
       "4    David Guetta        1185    18\n",
       "5  Britney Spears        1140    18\n",
       "6    Taylor Swift        1125    16\n",
       "7     Chris Brown        1080    17\n",
       "8      Kanye West        1049    17\n",
       "9      Katy Perry        1033    16"
      ]
     },
     "execution_count": 53,
     "metadata": {},
     "output_type": "execute_result"
    }
   ],
   "source": [
    "# First let's get the top artists by the number of successfull hits\n",
    "songs_by_artist = top_songs.groupby('artist', as_index = False)['song'] \\\n",
    "                                .count().sort_values(['song'],ascending=False)\n",
    "\n",
    "# Second let's get the top artists by the 'popularity' variable available in the dataset, which differenciate the level of popularity of each song\n",
    "popularity_by_artist = top_songs.groupby('artist', as_index = False)['popularity'] \\\n",
    "                                .sum().sort_values(['popularity'],ascending=False)\n",
    "\n",
    "# Inner join to dataframe with number of hit songs and popularity\n",
    "pop_and_hits_by_artist = pd.merge(popularity_by_artist, \\\n",
    "                                  songs_by_artist,      \\\n",
    "                                  on = 'artist',        \\\n",
    "                                  how='outer')\n",
    "\n",
    "pop_and_hits_by_artist['song'] = pop_and_hits_by_artist['song'].astype('Int64')\n",
    "pop_and_hits_by_artist['popularity'] = pop_and_hits_by_artist['popularity'].astype('Int64')\n",
    "\n",
    "#pop_and_hits_by_artist.set_index('artist',inplace=True)\n",
    "\n",
    "pop_and_hits_by_artist = pop_and_hits_by_artist.head(10)\n",
    "pop_and_hits_by_artist"
   ]
  },
  {
   "cell_type": "markdown",
   "id": "00429928",
   "metadata": {
    "papermill": {
     "duration": 0.017544,
     "end_time": "2022-08-06T18:27:07.599059",
     "exception": false,
     "start_time": "2022-08-06T18:27:07.581515",
     "status": "completed"
    },
    "tags": []
   },
   "source": [
    "Altough we have found those names to be placed at the top, we must state that some artists can mantain some popularity as time goes by and also not be an \"one-hit wonder\". That's explained for the fact that not all musicians release songs with the same frequency of time. Some can take years to release a new album, others can do it almost every year and be successfull in each one of them."
   ]
  },
  {
   "cell_type": "code",
   "execution_count": 54,
   "id": "3fc68b3a",
   "metadata": {
    "execution": {
     "iopub.execute_input": "2022-08-06T18:27:07.635171Z",
     "iopub.status.busy": "2022-08-06T18:27:07.634783Z",
     "iopub.status.idle": "2022-08-06T18:27:07.872013Z",
     "shell.execute_reply": "2022-08-06T18:27:07.871133Z"
    },
    "papermill": {
     "duration": 0.2575,
     "end_time": "2022-08-06T18:27:07.873791",
     "exception": false,
     "start_time": "2022-08-06T18:27:07.616291",
     "status": "completed"
    },
    "tags": []
   },
   "outputs": [
    {
     "data": {
      "image/png": "[encoded data removed]",
      "text/plain": [
       "<Figure size 864x432 with 2 Axes>"
      ]
     },
     "metadata": {},
     "output_type": "display_data"
    }
   ],
   "source": [
    "# Create figure and axis #1\n",
    "fig, ax1 = plt.subplots()\n",
    "\n",
    "sns.set(rc = {'figure.figsize':(12,6)})                                         # Set chart size\n",
    "\n",
    "# plot line chart on axis #1\n",
    "ax1.plot(pop_and_hits_by_artist.artist, pop_and_hits_by_artist.popularity)      # Variables \n",
    "ax1.set_ylabel('Artist popularity',fontsize=10)                               # Y-Axis label 1\n",
    "ax1.set_ylim(0, 2000)                                                           # Limit of Y-Axis scale\n",
    "\n",
    "plt.xticks(rotation=45, size = 12)                                              # Rotation and font size of X-Axis labels\n",
    "\n",
    "# set up the 2nd axis\n",
    "ax2 = ax1.twinx()\n",
    "\n",
    "# plot bar chart on axis #2\n",
    "ax2.bar(pop_and_hits_by_artist.artist, pop_and_hits_by_artist.song, width=0.5, alpha=0.5, color='purple')\n",
    "ax2.grid(False) # turn off grid #2\n",
    "ax2.set_ylabel('Hit songs',fontsize=10)\n",
    "ax2.set_ylim(0, 30)\n",
    "\n",
    "plt.title('Popularity and number of hit songs by top artists', size = 14)\n",
    "\n",
    "plt.show()"
   ]
  },
  {
   "cell_type": "markdown",
   "id": "f12bcde2",
   "metadata": {
    "papermill": {
     "duration": 0.017207,
     "end_time": "2022-08-06T18:27:07.908588",
     "exception": false,
     "start_time": "2022-08-06T18:27:07.891381",
     "status": "completed"
    },
    "tags": []
   },
   "source": [
    "As we can see, the popularity data is consistent with the number of hits that the artist released in the analyzed period, with Rihanna, Eminem and Drake being the biggest highlights.\n",
    "\n",
    "As mentioned earlier, not all artists release music in the same time frame. Rihanna, for example, hasn't released any music for 6 years. Therefore, I would like to check the temporal distribution of these artist's hits to see if they released songs at close moments and contexts."
   ]
  },
  {
   "cell_type": "markdown",
   "id": "6c1e17e6",
   "metadata": {
    "papermill": {
     "duration": 0.018252,
     "end_time": "2022-08-06T18:27:08.279249",
     "exception": false,
     "start_time": "2022-08-06T18:27:08.260997",
     "status": "completed"
    },
    "tags": []
   },
   "source": [
    "### d. Music duration\n",
    "\n",
    "<a id=\"subsection-4d\"></a>"
   ]
  },
  {
   "cell_type": "markdown",
   "id": "61213639",
   "metadata": {
    "papermill": {
     "duration": 0.018043,
     "end_time": "2022-08-06T18:27:08.315673",
     "exception": false,
     "start_time": "2022-08-06T18:27:08.297630",
     "status": "completed"
    },
    "tags": []
   },
   "source": [
    "Although it seems irrelevant, the length of the songs is a very interesting subject to discuss, as it involves the way in which the audience receives the music, their level of attention, as well as the technological context of the time the track was released. Let's understand why!"
   ]
  },
  {
   "cell_type": "markdown",
   "id": "247872b0",
   "metadata": {
    "papermill": {
     "duration": 0.017963,
     "end_time": "2022-08-06T18:27:08.351585",
     "exception": false,
     "start_time": "2022-08-06T18:27:08.333622",
     "status": "completed"
    },
    "tags": []
   },
   "source": [
    "First, we will create a scatterplot visualization. By using the Plotly Express interface, we are able to add the Ordinary Least Squares regression trendline to our scatterplot and seek for some pattern."
   ]
  },
  {
   "cell_type": "code",
   "execution_count": 55,
   "id": "b10f8c55",
   "metadata": {
    "_kg_hide-input": true,
    "execution": {
     "iopub.execute_input": "2022-08-06T18:27:10.235934Z",
     "iopub.status.busy": "2022-08-06T18:27:10.235570Z",
     "iopub.status.idle": "2022-08-06T18:27:10.245978Z",
     "shell.execute_reply": "2022-08-06T18:27:10.244688Z"
    },
    "papermill": {
     "duration": 0.034636,
     "end_time": "2022-08-06T18:27:10.248420",
     "exception": false,
     "start_time": "2022-08-06T18:27:10.213784",
     "status": "completed"
    },
    "tags": []
   },
   "outputs": [
    {
     "name": "stdout",
     "output_type": "stream",
     "text": [
      " Average hit songs duration in 2000: 249.44594594594594 \n",
      " Average hit songs duration in 2019: 196.2808988764045\n"
     ]
    }
   ],
   "source": [
    "comp_avg_duration_2000 = (top_songs[(top_songs.year == 2000)])[\"duration_sec\"].mean(skipna = True)\n",
    "comp_avg_duration_2019 = (top_songs[(top_songs.year == 2019)])[\"duration_sec\"].mean(skipna = True)\n",
    "\n",
    "print(' Average hit songs duration in 2000:', comp_avg_duration_2000, \"\\n\",'Average hit songs duration in 2019:', comp_avg_duration_2019)"
   ]
  },
  {
   "cell_type": "markdown",
   "id": "ea8d5329",
   "metadata": {
    "papermill": {
     "duration": 0.019624,
     "end_time": "2022-08-06T18:27:10.289651",
     "exception": false,
     "start_time": "2022-08-06T18:27:10.270027",
     "status": "completed"
    },
    "tags": []
   },
   "source": [
    "In fact, **music seems to be getting shorter**!\n",
    "\n",
    "Some research carried out by Dr Joe Bennett, a professor at Berklee College of Music in Boston, Massachusetts, and a team of researchers from Harvard University states:\n",
    "\n",
    "> *“Songs that are reduced in time are more favourable largely due to listener preferences, Spotify algorithms and the rise of social media platforms such as TikTok”*\n",
    "\n",
    "> \"*Around the turn of the 2000s we saw a temporary rise in durations, with some very long songs being nominated for Brit Song of the Year awards  and then fall again over the next few years with a dramatic drop after 2017, which correlates approximately with the rise of TikTok*” ([Source](https://www.telegraph.co.uk/news/2022/02/07/hit-songs-getting-shorter-tiktok-generations-attention-span/))\n",
    "\n",
    "\n",
    "But, it's important to notice that the trend for shorter singles means a full circle in history, as early pop and rock songs of the 1950s and 1960s also favoured brevity. As pop music started to emerge in the late 1940s, the length of a song were dependent of the technical storage capacity of the media that housed it. That's how the lenght of music is linked to technology!\n",
    "\n",
    "For nowadays, the possible reason why music is shorter it's because:\n",
    "\n",
    " > \"*[...] radio programmers and streaming services are both interested in “market share” and are looking to hang onto their audiences by discouraging them from switching channels, or track-skipping in the case of streaming services. One way they’re trying to achieve this is by playlisting songs that have the “boring” bits taken out. In other words, **artists are having to edit their songs down by cutting out introduction sections and simplifying choruses to maximise their playlisting and streaming potential**.*\" ([Source](https://inews.co.uk/opinion/pop-songs-getting-shorter-about-more-than-attention-spans-1704396))"
   ]
  },
  {
   "cell_type": "markdown",
   "id": "374fe9f5",
   "metadata": {
    "papermill": {
     "duration": 0.019518,
     "end_time": "2022-08-06T18:27:10.329131",
     "exception": false,
     "start_time": "2022-08-06T18:27:10.309613",
     "status": "completed"
    },
    "tags": []
   },
   "source": [
    "### e. Variables correlation\n",
    "\n",
    "<a id=\"subsection-4e\"></a>"
   ]
  },
  {
   "cell_type": "markdown",
   "id": "e675147f",
   "metadata": {
    "papermill": {
     "duration": 0.01953,
     "end_time": "2022-08-06T18:27:10.368446",
     "exception": false,
     "start_time": "2022-08-06T18:27:10.348916",
     "status": "completed"
    },
    "tags": []
   },
   "source": [
    "The final analysis will be the Pearson correlation of the variables with each other, in order to verify possible behavioral links between one variable and another, giving some open space for future studies and modeling."
   ]
  },
  {
   "cell_type": "code",
   "execution_count": 56,
   "id": "65a64bca",
   "metadata": {
    "execution": {
     "iopub.execute_input": "2022-08-06T18:27:10.409878Z",
     "iopub.status.busy": "2022-08-06T18:27:10.408666Z",
     "iopub.status.idle": "2022-08-06T18:27:11.461645Z",
     "shell.execute_reply": "2022-08-06T18:27:11.460509Z"
    },
    "papermill": {
     "duration": 1.076135,
     "end_time": "2022-08-06T18:27:11.464036",
     "exception": false,
     "start_time": "2022-08-06T18:27:10.387901",
     "status": "completed"
    },
    "tags": []
   },
   "outputs": [
    {
     "data": {
      "image/png": "[encoded data removed]",
      "text/plain": [
       "<Figure size 1080x576 with 2 Axes>"
      ]
     },
     "metadata": {},
     "output_type": "display_data"
    }
   ],
   "source": [
    "# Plotting a correlation heatmap\n",
    "plt.figure(figsize=(15,8))\n",
    "sns.heatmap(top_songs.corr(), annot = True, linewidths = .5, fmt = '.2f', cmap = \"viridis\")\n",
    "plt.title('Pearson correlation between top hits variables', size = 20)\n",
    "plt.yticks(fontsize=15)\n",
    "plt.xticks(fontsize=15, rotation = 50)\n",
    "plt.show()"
   ]
  },
  {
   "cell_type": "markdown",
   "id": "1698bb63",
   "metadata": {
    "papermill": {
     "duration": 0.024592,
     "end_time": "2022-08-06T18:27:11.512007",
     "exception": false,
     "start_time": "2022-08-06T18:27:11.487415",
     "status": "completed"
    },
    "tags": []
   },
   "source": [
    "Clearly the most striking point of the graph is the **positive correlation** between the songs features **loudness** and **energy**, which makes perfect sense, given that these two characteristics are very close by definition. Louder music tends to be more energetic and upbeat. Also, as stated before by the violin charts for the features, most of the top hits have a high average of danceability, energy and loudness, which are related to positive feelings. That possibly explain the positive correlation between **valence** and **popularity**\n",
    "\n",
    "The same goes to the **negative correlation** between **loudness** and **acousticness**, given that acoustic music tends to be softer because of the instruments configuration.\n",
    "\n",
    "The **speechiness** and **explicit** variables are also **positively correlated**, which probably means that the greater the number of words in the lyrics of a successful song, the greater the probability of \"bad words\".\n",
    "\n",
    "Finally, the **negative correlation** between **music duration** and **year** complements the previous analysis, in which considered that music is getting shorter as time goes by."
   ]
  },
  {
   "cell_type": "markdown",
   "id": "70d8d0bc",
   "metadata": {
    "papermill": {
     "duration": 0.022231,
     "end_time": "2022-08-06T18:27:11.603938",
     "exception": false,
     "start_time": "2022-08-06T18:27:11.581707",
     "status": "completed"
    },
    "tags": []
   },
   "source": [
    "### 5. Conclusions\n",
    "\n",
    "<a id=\"section-five\"></a>"
   ]
  },
  {
   "cell_type": "markdown",
   "id": "8cf348bb",
   "metadata": {
    "papermill": {
     "duration": 0.0221,
     "end_time": "2022-08-06T18:27:11.648790",
     "exception": false,
     "start_time": "2022-08-06T18:27:11.626690",
     "status": "completed"
    },
    "tags": []
   },
   "source": [
    "In conclusion, here are highlights:\n",
    "\n",
    "* The highests number of hit songs were in the year of **2012** (115 top hits), **2017** (111 top hits), **2001**. On the other side, the lowest numbers of hit songs were in the year of **2000** (74 top hits), **2009** (84 top hits), **2013** and **2019** (89 top hits each). Most have a high average of **danceability, energy** and **loudness**, as opposed to low concentration in speechiness, acousticness, instrumentalness and liveness.\n",
    "\n",
    "* The **Pop** and **Hip-hop** genres have maintained relative stability in terms of number of hit songs over time. On the other hand, when these two genres are added by the **R&B** style, it loses some ground. Additionally, when Pop style meets with **dance and eletronic music**, there's a significant increase in popularity along the analyzed period, mainly after 2007.\n",
    "\n",
    "* **Rihanna**, **Eminem** and **Drake** are the **top 3 most popular artists** in the dataset. But when we look at the time analysis of the hit songs released by each one of them, we can state that they had alternating peaks of popular tracks at diferent contexts of time along 2000 and 2019.\n",
    "\n",
    "* There are some evidences that, in fact, **music lenght is getting shorter** over time.\n",
    "\n",
    "* Some features are **positively correlated** with each other, like **loudness** and **energy** and also **valence** and **popularity**. It seems that popular songs usually are energetic and evoke positive feelings. The features **speechiness** and **explicit** have some **negative correlation**, problably because more extense lyrics increases the chances of explicit elements."
   ]
  }
 ],
 "metadata": {
  "kernelspec": {
   "display_name": "Python 3 (ipykernel)",
   "language": "python",
   "name": "python3"
  },
  "language_info": {
   "codemirror_mode": {
    "name": "ipython",
    "version": 3
   },
   "file_extension": ".py",
   "mimetype": "text/x-python",
   "name": "python",
   "nbconvert_exporter": "python",
   "pygments_lexer": "ipython3",
   "version": "3.9.12"
  },
  "papermill": {
   "default_parameters": {},
   "duration": 19.278571,
   "end_time": "2022-08-06T18:27:12.592958",
   "environment_variables": {},
   "exception": null,
   "input_path": "__notebook__.ipynb",
   "output_path": "__notebook__.ipynb",
   "parameters": {},
   "start_time": "2022-08-06T18:26:53.314387",
   "version": "2.3.4"
  }
 },
 "nbformat": 4,
 "nbformat_minor": 5
}
